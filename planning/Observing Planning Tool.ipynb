{
 "cells": [
  {
   "cell_type": "markdown",
   "metadata": {},
   "source": [
    "# Overview\n",
    "\n",
    "This interactive notebook acts as an productive, ituitive way for the Speckle Imaging Group to plan observing runs. In order to ensure that this tool functions properly, there are a list of **assumptions**:\n",
    "\n",
    "- Input files will be CSV files aka comma seperated files (create a fork for it to be tab separated)\n",
    "- For complex filtering and searching of targets, you must provide your own custom filter in the cells marked below if the ones provided are not suitable\n",
    "- For \"ZERO\" values or \"EMPTY\" values, please use empty commas \",,\""
   ]
  },
  {
   "cell_type": "markdown",
   "metadata": {},
   "source": [
    "## Download libraries if not \n",
    "\n",
    "Depending on your set up, you may have to change \"pip3\" to \"pip\""
   ]
  },
  {
   "cell_type": "code",
   "execution_count": null,
   "metadata": {},
   "outputs": [],
   "source": [
    "!pip3 install --upgrade pip\n",
    "!pip3 install pandas numpy\n",
    "!pip3 install astropy astroplan -U\n",
    "!pip3 install ipywidgets"
   ]
  },
  {
   "cell_type": "markdown",
   "metadata": {},
   "source": [
    "## Set Up Libraries and Constants"
   ]
  },
  {
   "cell_type": "code",
   "execution_count": 2,
   "metadata": {},
   "outputs": [],
   "source": [
    "from astropy.coordinates import SkyCoord\n",
    "import astropy\n",
    "import ipywidgets as widgets\n",
    "from IPython.display import display, clear_output\n",
    "from astropy.table import QTable\n",
    "import astropy.units as u\n",
    "import numpy as np\n",
    "import pandas as pd\n",
    "\n",
    "import ipywidgets as widgets\n",
    "observed_textbox = widgets.Textarea(\n",
    "    value='''Example:\n",
    "1\n",
    "2\n",
    "10\n",
    "15\n",
    "''',\n",
    "    placeholder='Type something',\n",
    "    description='Observed: ',\n",
    "    disabled=False\n",
    ")"
   ]
  },
  {
   "cell_type": "markdown",
   "metadata": {},
   "source": [
    "# Step 1: Importation of olist/target files \n",
    "\n",
    "Note: There are two different \"Step 1\"s.\n",
    "\n",
    "[Step 1a is intended for a first night of an observing run](#Step-1a:-ASCII-File-Importation)\n",
    "\n",
    "[Step 1b is intended as a continuation of a previous night's run](#Step-1b:-Resume-Observation-Run-From-Previous-Night(s))"
   ]
  },
  {
   "cell_type": "markdown",
   "metadata": {},
   "source": [
    "## Step 1a: ASCII File Importation "
   ]
  },
  {
   "cell_type": "markdown",
   "metadata": {},
   "source": [
    "### Upload CSV File via Upload Widget\n",
    "\n",
    "**Columns:**\n",
    "\n",
    "column 1: star_id\n",
    "column 2: queue_id\n",
    "column 3: right ascension\n",
    "column 4: declination\n",
    "column 5: epoch\n",
    "column 6: proper(\n",
    "column 7: proper(dec)\n",
    "column 8: magnitude\n",
    "column 9: priority\n",
    "column 10: principal investigator\n",
    "column 11: comment\n",
    "\n",
    "**Example Input file:**\n",
    "\n",
    "HIP33451,06:57:17.6,-35:30:26,2000.00,,,6.22,3,joncwong,comment<br/> \n",
    "HR 2518,06:47:21.4,-37:55:47,2000.00,-7.0,-15.0,5.26,1,howell<br/> \n",
    "HIP38382,07:51:46.3,-13:53:53,2000.00,,,5.16,1,nic,testtesttesttest<br/> \n",
    "HR 3073,07:52:18.9,-14:50:47,2000.00,-11.0,-2.0,5.69,1,nic<br/> \n",
    "HIP41426,08:26:57.7,-52:42:18,2000.00,,,6.49,2,howell,another test comment<br/> \n",
    "HR 3350,08:27:36.5,-53:05:19,2000.00,-68.0,13.0,5.09,,,<br/> \n",
    "HIP78727,16:04:22.2,-11:22:23,2000.00,,,4.17,,,test comment<br/> \n",
    "HR 6048,16:13:50.9,-11:50:15,2000.00,-10.0,-6.0,5.22,,,test comment<br/> \n",
    "H101769,20:37:32.9,+14:35:43,2000.00,,,4.03,,,<br/> \n",
    "HR 7918,20:41:16.2,+14:34:59,2000.00,-6.0,2.0,5.99,,,<br/> \n",
    "H104858,21:14:28.8,+10:00:28,2000.00,,,5.07,,,<br/> \n",
    "HR 8149,21:18:52.0,+11:12:12,2000.00,26.0,15.0,5.96,,,<br/> \n",
    "H111974,22:40:52.5,+14:32:56,2000.00,,,6.14,,,<br/> \n",
    "HR 8642,22:41:57.4,+14:30:59,2000.00,92.0,-21.0,5.9,,,COMMENT"
   ]
  },
  {
   "cell_type": "code",
   "execution_count": null,
   "metadata": {},
   "outputs": [],
   "source": [
    "uploaded = widgets.FileUpload(\n",
    "    accept='',\n",
    "    multiple=True\n",
    ")\n",
    "uploaded"
   ]
  },
  {
   "cell_type": "markdown",
   "metadata": {},
   "source": [
    "### Step 1a cont: Parse CSV File into a Python List\n",
    "\n",
    "We parse the CSV File into a List data structure before importing the list into an AstroPy table"
   ]
  },
  {
   "cell_type": "code",
   "execution_count": 5,
   "metadata": {},
   "outputs": [
    {
     "name": "stdout",
     "output_type": "stream",
     "text": [
      "[['HIP33451', '06:57:17.6', '-35:30:26', '2000.00', 0.0, 0.0, '6.22', '3', 'joncwong', 'comment'], ['HR 2518', '06:47:21.4', '-37:55:47', '2000.00', '-7.0', '-15.0', '1', 'howell', '5.26', ''], ['HIP38382', '07:51:46.3', '-13:53:53', '2000.00', 0.0, 0.0, '5.16', '1', 'nic', 'testtesttesttest'], ['HR 3073', '07:52:18.9', '-14:50:47', '2000.00', '-11.0', '-2.0', '5.69', '1', 'nic', ''], ['HIP41426', '08:26:57.7', '-52:42:18', '2000.00', 0.0, 0.0, '6.49', '2', 'howell', 'another test comment'], ['HR 3350', '08:27:36.5', '-53:05:19', '2000.00', '-68.0', '13.0', '5.09', '', '', ''], ['HIP78727', '16:04:22.2', '-11:22:23', '2000.00', 0.0, 0.0, '4.17', '', '', 'test comment 2'], ['HR 6048', '16:13:50.9', '-11:50:15', '2000.00', '-10.0', '-6.0', '5.22', '', '', 'test comment'], ['H101769', '20:37:32.9', '+14:35:43', '2000.00', 0.0, 0.0, '4.03', '', '', ''], ['HR 7918', '20:41:16.2', '+14:34:59', '2000.00', '-6.0', '2.0', '5.99', '', '', ''], ['H104858', '21:14:28.8', '+10:00:28', '2000.00', 0.0, 0.0, '5.07', '', '', ''], ['HR 8149', '21:18:52.0', '+11:12:12', '2000.00', '26.0', '15.0', '5.96', '', '', ''], ['H111974', '22:40:52.5', '+14:32:56', '2000.00', 0.0, 0.0, '6.14', '', '', ''], ['HR 8642', '22:41:57.4', '+14:30:59', '2000.00', '92.0', '-21.0', '5.9', '', '', 'COMMENT']]\n"
     ]
    }
   ],
   "source": [
    "decoded_files = []\n",
    "for file, file_bytes in uploaded.value.items():\n",
    "    decoded_files.append(file_bytes['content'].decode())\n",
    "\n",
    "decoded_entries = []\n",
    "\n",
    "for decoded_file in decoded_files:\n",
    "    for line in decoded_file.split(\"\\n\"):\n",
    "        line = ' '.join(line.split())\n",
    "        if line.count(\",\") > 2:\n",
    "            line = line.split(\",\")\n",
    "        else:\n",
    "            line = line.split(\" \")\n",
    "        \n",
    "        if line[0] == \"\":\n",
    "            continue\n",
    "   \n",
    "        try:\n",
    "            if line[4] == '':\n",
    "                line[4] = 0.0\n",
    "        except:\n",
    "            line.append(0.0)\n",
    "\n",
    "        try:\n",
    "            if line[5] == '':\n",
    "                line[5] = 0.0\n",
    "        except:\n",
    "            line.append(0.0)\n",
    "        try:\n",
    "            if line[6] == '':\n",
    "                line[6] = 0.0\n",
    "        except:\n",
    "            line.append(0.0)\n",
    "\n",
    "        try:\n",
    "            comment = line[9]\n",
    "        except:\n",
    "            line.append(\"\")\n",
    "        decoded_entries.append(line)"
   ]
  },
  {
   "cell_type": "markdown",
   "metadata": {},
   "source": [
    "# Backlog Table and Observed Table Construction\n",
    "\n",
    "In this cell, we created two astropy tables: **backlog_table** and **observed_table**\n",
    "\n",
    "\"backlog_table\" will hold all the targets that we have yet to observed. \"observed_table\" will hold all the targets have have been observed.\n"
   ]
  },
  {
   "cell_type": "code",
   "execution_count": 6,
   "metadata": {},
   "outputs": [
    {
     "ename": "ValueError",
     "evalue": "Unable to insert row because of exception in column 'priority':\ncould not convert string to float: 'howell'",
     "output_type": "error",
     "traceback": [
      "\u001b[0;31m---------------------------------------------------------------------------\u001b[0m",
      "\u001b[0;31mValueError\u001b[0m                                Traceback (most recent call last)",
      "\u001b[0;32m~/opt/anaconda3/lib/python3.7/site-packages/astropy/table/table.py\u001b[0m in \u001b[0;36minsert_row\u001b[0;34m(self, index, vals, mask)\u001b[0m\n\u001b[1;32m   2513\u001b[0m \u001b[0;34m\u001b[0m\u001b[0m\n\u001b[0;32m-> 2514\u001b[0;31m                 \u001b[0mnewcol\u001b[0m \u001b[0;34m=\u001b[0m \u001b[0mcol\u001b[0m\u001b[0;34m.\u001b[0m\u001b[0minsert\u001b[0m\u001b[0;34m(\u001b[0m\u001b[0mindex\u001b[0m\u001b[0;34m,\u001b[0m \u001b[0mval\u001b[0m\u001b[0;34m,\u001b[0m \u001b[0maxis\u001b[0m\u001b[0;34m=\u001b[0m\u001b[0;36m0\u001b[0m\u001b[0;34m)\u001b[0m\u001b[0;34m\u001b[0m\u001b[0;34m\u001b[0m\u001b[0m\n\u001b[0m\u001b[1;32m   2515\u001b[0m                 \u001b[0;32mif\u001b[0m \u001b[0;32mnot\u001b[0m \u001b[0misinstance\u001b[0m\u001b[0;34m(\u001b[0m\u001b[0mnewcol\u001b[0m\u001b[0;34m,\u001b[0m \u001b[0mBaseColumn\u001b[0m\u001b[0;34m)\u001b[0m\u001b[0;34m:\u001b[0m\u001b[0;34m\u001b[0m\u001b[0;34m\u001b[0m\u001b[0m\n",
      "\u001b[0;32m~/opt/anaconda3/lib/python3.7/site-packages/astropy/table/column.py\u001b[0m in \u001b[0;36minsert\u001b[0;34m(self, obj, values, axis)\u001b[0m\n\u001b[1;32m   1030\u001b[0m             \u001b[0;31m# enforces safe casting by default, so .  This isn't the case for 1.6 or 1.8+.\u001b[0m\u001b[0;34m\u001b[0m\u001b[0;34m\u001b[0m\u001b[0;34m\u001b[0m\u001b[0m\n\u001b[0;32m-> 1031\u001b[0;31m             \u001b[0mvalues\u001b[0m \u001b[0;34m=\u001b[0m \u001b[0mnp\u001b[0m\u001b[0;34m.\u001b[0m\u001b[0masarray\u001b[0m\u001b[0;34m(\u001b[0m\u001b[0mvalues\u001b[0m\u001b[0;34m,\u001b[0m \u001b[0mdtype\u001b[0m\u001b[0;34m=\u001b[0m\u001b[0mself\u001b[0m\u001b[0;34m.\u001b[0m\u001b[0mdtype\u001b[0m\u001b[0;34m)\u001b[0m\u001b[0;34m\u001b[0m\u001b[0;34m\u001b[0m\u001b[0m\n\u001b[0m\u001b[1;32m   1032\u001b[0m             \u001b[0mdata\u001b[0m \u001b[0;34m=\u001b[0m \u001b[0mnp\u001b[0m\u001b[0;34m.\u001b[0m\u001b[0minsert\u001b[0m\u001b[0;34m(\u001b[0m\u001b[0mself\u001b[0m\u001b[0;34m,\u001b[0m \u001b[0mobj\u001b[0m\u001b[0;34m,\u001b[0m \u001b[0mvalues\u001b[0m\u001b[0;34m,\u001b[0m \u001b[0maxis\u001b[0m\u001b[0;34m=\u001b[0m\u001b[0maxis\u001b[0m\u001b[0;34m)\u001b[0m\u001b[0;34m\u001b[0m\u001b[0;34m\u001b[0m\u001b[0m\n",
      "\u001b[0;32m~/opt/anaconda3/lib/python3.7/site-packages/numpy/core/_asarray.py\u001b[0m in \u001b[0;36masarray\u001b[0;34m(a, dtype, order)\u001b[0m\n\u001b[1;32m     84\u001b[0m     \"\"\"\n\u001b[0;32m---> 85\u001b[0;31m     \u001b[0;32mreturn\u001b[0m \u001b[0marray\u001b[0m\u001b[0;34m(\u001b[0m\u001b[0ma\u001b[0m\u001b[0;34m,\u001b[0m \u001b[0mdtype\u001b[0m\u001b[0;34m,\u001b[0m \u001b[0mcopy\u001b[0m\u001b[0;34m=\u001b[0m\u001b[0;32mFalse\u001b[0m\u001b[0;34m,\u001b[0m \u001b[0morder\u001b[0m\u001b[0;34m=\u001b[0m\u001b[0morder\u001b[0m\u001b[0;34m)\u001b[0m\u001b[0;34m\u001b[0m\u001b[0;34m\u001b[0m\u001b[0m\n\u001b[0m\u001b[1;32m     86\u001b[0m \u001b[0;34m\u001b[0m\u001b[0m\n",
      "\u001b[0;31mValueError\u001b[0m: could not convert string to float: 'howell'",
      "\nDuring handling of the above exception, another exception occurred:\n",
      "\u001b[0;31mValueError\u001b[0m                                Traceback (most recent call last)",
      "\u001b[0;32m<ipython-input-6-636741785344>\u001b[0m in \u001b[0;36m<module>\u001b[0;34m\u001b[0m\n\u001b[1;32m     34\u001b[0m \u001b[0;31m# Insert data into the table\u001b[0m\u001b[0;34m\u001b[0m\u001b[0;34m\u001b[0m\u001b[0;34m\u001b[0m\u001b[0m\n\u001b[1;32m     35\u001b[0m \u001b[0;32mfor\u001b[0m \u001b[0mi\u001b[0m \u001b[0;32min\u001b[0m \u001b[0mrange\u001b[0m\u001b[0;34m(\u001b[0m\u001b[0mlen\u001b[0m\u001b[0;34m(\u001b[0m\u001b[0mdecoded_entries\u001b[0m\u001b[0;34m)\u001b[0m\u001b[0;34m)\u001b[0m\u001b[0;34m:\u001b[0m\u001b[0;34m\u001b[0m\u001b[0;34m\u001b[0m\u001b[0m\n\u001b[0;32m---> 36\u001b[0;31m     \u001b[0mbacklog_table\u001b[0m\u001b[0;34m.\u001b[0m\u001b[0minsert_row\u001b[0m\u001b[0;34m(\u001b[0m\u001b[0mi\u001b[0m\u001b[0;34m,\u001b[0m \u001b[0mdecoded_entries\u001b[0m\u001b[0;34m[\u001b[0m\u001b[0mi\u001b[0m\u001b[0;34m]\u001b[0m\u001b[0;34m)\u001b[0m\u001b[0;34m\u001b[0m\u001b[0;34m\u001b[0m\u001b[0m\n\u001b[0m\u001b[1;32m     37\u001b[0m \u001b[0;34m\u001b[0m\u001b[0m\n\u001b[1;32m     38\u001b[0m \u001b[0;31m# def filter_ra_by_range(table, key_colnames):\u001b[0m\u001b[0;34m\u001b[0m\u001b[0;34m\u001b[0m\u001b[0;34m\u001b[0m\u001b[0m\n",
      "\u001b[0;32m~/opt/anaconda3/lib/python3.7/site-packages/astropy/table/table.py\u001b[0m in \u001b[0;36minsert_row\u001b[0;34m(self, index, vals, mask)\u001b[0m\n\u001b[1;32m   2536\u001b[0m         \u001b[0;32mexcept\u001b[0m \u001b[0mException\u001b[0m \u001b[0;32mas\u001b[0m \u001b[0merr\u001b[0m\u001b[0;34m:\u001b[0m\u001b[0;34m\u001b[0m\u001b[0;34m\u001b[0m\u001b[0m\n\u001b[1;32m   2537\u001b[0m             raise ValueError(\"Unable to insert row because of exception in column '{0}':\\n{1}\"\n\u001b[0;32m-> 2538\u001b[0;31m                              .format(name, err))\n\u001b[0m\u001b[1;32m   2539\u001b[0m         \u001b[0;32melse\u001b[0m\u001b[0;34m:\u001b[0m\u001b[0;34m\u001b[0m\u001b[0;34m\u001b[0m\u001b[0m\n\u001b[1;32m   2540\u001b[0m             \u001b[0mself\u001b[0m\u001b[0;34m.\u001b[0m\u001b[0m_replace_cols\u001b[0m\u001b[0;34m(\u001b[0m\u001b[0mcolumns\u001b[0m\u001b[0;34m)\u001b[0m\u001b[0;34m\u001b[0m\u001b[0;34m\u001b[0m\u001b[0m\n",
      "\u001b[0;31mValueError\u001b[0m: Unable to insert row because of exception in column 'priority':\ncould not convert string to float: 'howell'"
     ]
    }
   ],
   "source": [
    "backlog_targets = []\n",
    "observed_targets = []\n",
    "\n",
    "# Construction of Backlog table\n",
    "# backlog_table = QTable(names=(\"star_id\", \"queue_id\", \"ra\",\"dec\", \"epoch\", \"proper(ra)\", \"proper(dec)\", \"mag\", \"priority\", \"pi\", \"comment\"))\n",
    "backlog_table = QTable(names=(\"star_id\", \"ra\", \"dec\", \"epoch\", \"proper(ra)\", \"proper(dec)\", \"mag\", \"priority\", \"pi\", \"comment\"))\n",
    "backlog_table[\"star_id\"].dtype = np.dtype(\"S10\")\n",
    "# backlog_table[\"queue_id\"].dtype = np.dtype(\"S10\")\n",
    "backlog_table[\"ra\"].dtype = np.dtype(\"S10\")\n",
    "backlog_table[\"dec\"].dtype = np.dtype(\"S10\")\n",
    "backlog_table[\"epoch\"].dtype = np.dtype(\"float32\")\n",
    "backlog_table[\"proper(ra)\"].dtype = np.dtype(\"float32\")\n",
    "backlog_table[\"proper(dec)\"].dtype = np.dtype(\"float32\")\n",
    "backlog_table[\"mag\"].dtype = np.dtype(\"float32\")\n",
    "backlog_table[\"priority\"].dtype = np.dtype(\"float32\")\n",
    "backlog_table[\"pi\"].dtype = np.dtype(\"S10\")\n",
    "backlog_table[\"comment\"].dtype = np.dtype(\"S10\")\n",
    "\n",
    "# Construction of Observed table\n",
    "# observed_table = QTable(names=(\"star_id\", \"queue_id\", \"ra\", \"dec\", \"epoch\", \"proper(ra)\", \"proper(dec)\", \"mag\", \"priority\", \"pi\", \"comment\"))\n",
    "observed_table = QTable(names=(\"star_id\", \"ra\", \"dec\", \"epoch\", \"proper(ra)\", \"proper(dec)\", \"mag\", \"priority\", \"pi\", \"comment\"))\n",
    "observed_table[\"star_id\"].dtype = np.dtype(\"S10\")\n",
    "# observed_table[\"queue_id\"].dtype = np.dtype(\"S10\")\n",
    "observed_table[\"ra\"].dtype = np.dtype(\"S10\")\n",
    "observed_table[\"dec\"].dtype = np.dtype(\"S10\")\n",
    "observed_table[\"epoch\"].dtype = np.dtype(\"float32\")\n",
    "observed_table[\"proper(ra)\"].dtype = np.dtype(\"float32\")\n",
    "observed_table[\"proper(dec)\"].dtype = np.dtype(\"float32\")\n",
    "observed_table[\"mag\"].dtype = np.dtype(\"float32\")\n",
    "observed_table[\"priority\"].dtype = np.dtype(\"float32\")\n",
    "observed_table[\"pi\"].dtype = np.dtype(\"S10\")\n",
    "observed_table[\"comment\"].dtype = np.dtype(\"S10\")\n",
    "\n",
    "# Insert data into the table\n",
    "for i in range(len(decoded_entries)):\n",
    "    backlog_table.insert_row(i, decoded_entries[i])"
   ]
  },
  {
   "cell_type": "markdown",
   "metadata": {},
   "source": [
    "## Step 1b: Resume Observation Run From Previous Night(s)\n",
    "\n",
    "TODO: Allow prompted files to be inputted rather than a hard coded absolute file path\n",
    "\n",
    "TODO: Make instructions for how to do file picker"
   ]
  },
  {
   "cell_type": "code",
   "execution_count": 4,
   "metadata": {},
   "outputs": [],
   "source": [
    "backlog_table = QTable.read('backlog_table.ecsv')\n",
    "observed_table = QTable.read('observed_table.ecsv')"
   ]
  },
  {
   "cell_type": "markdown",
   "metadata": {},
   "source": [
    "# Parameter Tuning"
   ]
  },
  {
   "cell_type": "code",
   "execution_count": 5,
   "metadata": {},
   "outputs": [],
   "source": [
    "# Try using a enterable box for these parameters\n",
    "global ra_lower_bound\n",
    "global ra_upper_bound\n",
    "global dec_lower_bound\n",
    "global dec_upper_bound\n",
    "\n",
    "# Edit these parameters\n",
    "ra_lower_bound = '00:00:00.0'\n",
    "ra_upper_bound = '24:00:00.0'\n",
    "dec_lower_bound = '-90:00:00.0'\n",
    "dec_upper_bound = '+90:00:00.0'\n",
    "allowed_priority_bands = []\n",
    "\n",
    "# Range filter for mag\n",
    "# Display comments on the table\n",
    "# Filter by bands as well\n",
    "\n",
    "# def filter_ra_by_range(table, column):\n",
    "#     if ra_lower_bound < table[column][] < ra_upper_bound:\n",
    "#         return True\n",
    "#     return False\n",
    "\n",
    "# Edit the parameters of group_by in order to sort by columns of your choice\n",
    "# Possible sort keys: idx, star_id, ra, dec, epoch, proper(ra), proper(dec), mag\n",
    "backlog_table = backlog_table.group_by(['ra', 'mag'])\n",
    "\n",
    "# backlog_table = backlog_table.groups.filter(filter_ra_by_range)\n",
    "# backlog_table = backlog_table.groups.filter(filter_dec_by_range)"
   ]
  },
  {
   "cell_type": "markdown",
   "metadata": {},
   "source": [
    "# Table Display\n",
    "\n",
    "- If a different range, filter, or sort by is needed, rerun \"Parameter Tuning\" code block\n",
    "    - Then, re-run \"Table Display\""
   ]
  },
  {
   "cell_type": "code",
   "execution_count": 6,
   "metadata": {},
   "outputs": [
    {
     "data": {
      "text/html": [
       "<i>QTable masked=True length=11</i>\n",
       "<table id=\"table4870681232-561097\" class=\"table-striped table-bordered table-condensed\">\n",
       "<thead><tr><th>idx</th><th>star_id</th><th>ra</th><th>dec</th><th>epoch</th><th>proper(ra)</th><th>proper(dec)</th><th>mag</th><th>comment</th></tr></thead>\n",
       "<tr><td>0</td><td>HR 2518</td><td>06:47:21.4</td><td>-37:55:47</td><td>2000.0</td><td>-7.0</td><td>-15.0</td><td>5.26</td><td>--</td></tr>\n",
       "<tr><td>1</td><td>HIP38382</td><td>07:51:46.3</td><td>-13:53:53</td><td>2000.0</td><td>0.0</td><td>0.0</td><td>5.16</td><td>testtestte</td></tr>\n",
       "<tr><td>2</td><td>HR 3073</td><td>07:52:18.9</td><td>-14:50:47</td><td>2000.0</td><td>-11.0</td><td>-2.0</td><td>5.69</td><td>--</td></tr>\n",
       "<tr><td>3</td><td>HIP41426</td><td>08:26:57.7</td><td>-52:42:18</td><td>2000.0</td><td>0.0</td><td>0.0</td><td>6.49</td><td>another te</td></tr>\n",
       "<tr><td>4</td><td>HR 6048</td><td>16:13:50.9</td><td>-11:50:15</td><td>2000.0</td><td>-10.0</td><td>-6.0</td><td>5.22</td><td>test comme</td></tr>\n",
       "<tr><td>5</td><td>H101769</td><td>20:37:32.9</td><td>+14:35:43</td><td>2000.0</td><td>0.0</td><td>0.0</td><td>4.03</td><td>--</td></tr>\n",
       "<tr><td>6</td><td>HR 7918</td><td>20:41:16.2</td><td>+14:34:59</td><td>2000.0</td><td>-6.0</td><td>2.0</td><td>5.99</td><td>--</td></tr>\n",
       "<tr><td>7</td><td>H104858</td><td>21:14:28.8</td><td>+10:00:28</td><td>2000.0</td><td>0.0</td><td>0.0</td><td>5.07</td><td>--</td></tr>\n",
       "<tr><td>8</td><td>HR 8149</td><td>21:18:52.0</td><td>+11:12:12</td><td>2000.0</td><td>26.0</td><td>15.0</td><td>5.96</td><td>--</td></tr>\n",
       "<tr><td>9</td><td>H111974</td><td>22:40:52.5</td><td>+14:32:56</td><td>2000.0</td><td>0.0</td><td>0.0</td><td>6.14</td><td>--</td></tr>\n",
       "<tr><td>10</td><td>HR 8642</td><td>22:41:57.4</td><td>+14:30:59</td><td>2000.0</td><td>92.0</td><td>-21.0</td><td>5.9</td><td>COMMENT</td></tr>\n",
       "</table><style>table.dataTable {clear: both; width: auto !important; margin: 0 !important;}\n",
       ".dataTables_info, .dataTables_length, .dataTables_filter, .dataTables_paginate{\n",
       "display: inline-block; margin-right: 1em; }\n",
       ".paginate_button { margin-right: 5px; }\n",
       "</style>\n",
       "<script>\n",
       "\n",
       "var astropy_sort_num = function(a, b) {\n",
       "    var a_num = parseFloat(a);\n",
       "    var b_num = parseFloat(b);\n",
       "\n",
       "    if (isNaN(a_num) && isNaN(b_num))\n",
       "        return ((a < b) ? -1 : ((a > b) ? 1 : 0));\n",
       "    else if (!isNaN(a_num) && !isNaN(b_num))\n",
       "        return ((a_num < b_num) ? -1 : ((a_num > b_num) ? 1 : 0));\n",
       "    else\n",
       "        return isNaN(a_num) ? -1 : 1;\n",
       "}\n",
       "\n",
       "require.config({paths: {\n",
       "    datatables: 'https://cdn.datatables.net/1.10.12/js/jquery.dataTables.min'\n",
       "}});\n",
       "require([\"datatables\"], function(){\n",
       "    console.log(\"$('#table4870681232-561097').dataTable()\");\n",
       "    \n",
       "jQuery.extend( jQuery.fn.dataTableExt.oSort, {\n",
       "    \"optionalnum-asc\": astropy_sort_num,\n",
       "    \"optionalnum-desc\": function (a,b) { return -astropy_sort_num(a, b); }\n",
       "});\n",
       "\n",
       "    $('#table4870681232-561097').dataTable({\n",
       "        order: [],\n",
       "        pageLength: 25,\n",
       "        lengthMenu: [[10, 25, 50, 100, 500, 1000, -1], [10, 25, 50, 100, 500, 1000, 'All']],\n",
       "        pagingType: \"full_numbers\",\n",
       "        columnDefs: [{targets: [0, 4, 5, 6, 7], type: \"optionalnum\"}]\n",
       "    });\n",
       "});\n",
       "</script>\n"
      ],
      "text/plain": [
       "<IPython.core.display.HTML object>"
      ]
     },
     "execution_count": 6,
     "metadata": {},
     "output_type": "execute_result"
    }
   ],
   "source": [
    "backlog_table.show_in_notebook(display_length=25)"
   ]
  },
  {
   "cell_type": "markdown",
   "metadata": {},
   "source": [
    "# Mark as Observed\n",
    "\n",
    "Mark stars as observed in the below textbox. Remove the example placeholder shown with your own list of 'idx's to mark as observed.\n",
    "\n",
    "After \n",
    "\n",
    "TODO: \n",
    "\n",
    "allow for comments after the ID"
   ]
  },
  {
   "cell_type": "code",
   "execution_count": 9,
   "metadata": {},
   "outputs": [
    {
     "data": {
      "application/vnd.jupyter.widget-view+json": {
       "model_id": "3b1d2e664f8e4c2597483e29deafd4e1",
       "version_major": 2,
       "version_minor": 0
      },
      "text/plain": [
       "Textarea(value='Example:\\n1\\n2\\n10\\n15\\n', description='Observed: ', placeholder='Type something')"
      ]
     },
     "metadata": {},
     "output_type": "display_data"
    }
   ],
   "source": [
    "observed_textbox"
   ]
  },
  {
   "cell_type": "markdown",
   "metadata": {},
   "source": [
    "## Move targets from textbox to saved observed table\n",
    "\n",
    "Run the below cell in order to save all of the targets by idx, into a temporary table which will be exported at the end of the night.\n",
    "\n",
    "**Note:**\n",
    "\n",
    "- If an entry is not a number or a valid ID of the table, it will be automatically thrown away.**\n",
    "\n",
    "- Idx numbers are not permanent nor important to a particular row, they are simply used as temporary IDs to mark targets as observed"
   ]
  },
  {
   "cell_type": "code",
   "execution_count": 8,
   "metadata": {},
   "outputs": [],
   "source": [
    "textbox_string = observed_textbox.value\n",
    "textbox_string = textbox_string.strip()\n",
    "textbox_ids = textbox_string.split('\\n')\n",
    "id_upper_bound = len(backlog_table)\n",
    "textbox_ids = [s for s in textbox_ids if s.isdigit()]\n",
    "textbox_ids = map(int, textbox_ids)\n",
    "textbox_ids = [s for s in textbox_ids if s < id_upper_bound]\n",
    "\n",
    "for idx in textbox_ids:\n",
    "    observed_table.add_row(backlog_table[idx])\n",
    "\n",
    "backlog_table.remove_rows(textbox_ids)"
   ]
  },
  {
   "cell_type": "code",
   "execution_count": 7,
   "metadata": {},
   "outputs": [
    {
     "data": {
      "text/html": [
       "<i>QTable masked=True length=3</i>\n",
       "<table id=\"table4866186960-356888\" class=\"table-striped table-bordered table-condensed\">\n",
       "<thead><tr><th>idx</th><th>star_id</th><th>ra</th><th>dec</th><th>epoch</th><th>proper(ra)</th><th>proper(dec)</th><th>mag</th><th>comment</th></tr></thead>\n",
       "<tr><td>0</td><td>HIP33451</td><td>06:57:17.6</td><td>-35:30:26</td><td>2000.0</td><td>0.0</td><td>0.0</td><td>6.22</td><td>comment</td></tr>\n",
       "<tr><td>1</td><td>HR 3350</td><td>08:27:36.5</td><td>-53:05:19</td><td>2000.0</td><td>-68.0</td><td>13.0</td><td>5.09</td><td>--</td></tr>\n",
       "<tr><td>2</td><td>HIP78727</td><td>16:04:22.2</td><td>-11:22:23</td><td>2000.0</td><td>0.0</td><td>0.0</td><td>4.17</td><td>test comme</td></tr>\n",
       "</table><style>table.dataTable {clear: both; width: auto !important; margin: 0 !important;}\n",
       ".dataTables_info, .dataTables_length, .dataTables_filter, .dataTables_paginate{\n",
       "display: inline-block; margin-right: 1em; }\n",
       ".paginate_button { margin-right: 5px; }\n",
       "</style>\n",
       "<script>\n",
       "\n",
       "var astropy_sort_num = function(a, b) {\n",
       "    var a_num = parseFloat(a);\n",
       "    var b_num = parseFloat(b);\n",
       "\n",
       "    if (isNaN(a_num) && isNaN(b_num))\n",
       "        return ((a < b) ? -1 : ((a > b) ? 1 : 0));\n",
       "    else if (!isNaN(a_num) && !isNaN(b_num))\n",
       "        return ((a_num < b_num) ? -1 : ((a_num > b_num) ? 1 : 0));\n",
       "    else\n",
       "        return isNaN(a_num) ? -1 : 1;\n",
       "}\n",
       "\n",
       "require.config({paths: {\n",
       "    datatables: 'https://cdn.datatables.net/1.10.12/js/jquery.dataTables.min'\n",
       "}});\n",
       "require([\"datatables\"], function(){\n",
       "    console.log(\"$('#table4866186960-356888').dataTable()\");\n",
       "    \n",
       "jQuery.extend( jQuery.fn.dataTableExt.oSort, {\n",
       "    \"optionalnum-asc\": astropy_sort_num,\n",
       "    \"optionalnum-desc\": function (a,b) { return -astropy_sort_num(a, b); }\n",
       "});\n",
       "\n",
       "    $('#table4866186960-356888').dataTable({\n",
       "        order: [],\n",
       "        pageLength: 25,\n",
       "        lengthMenu: [[10, 25, 50, 100, 500, 1000, -1], [10, 25, 50, 100, 500, 1000, 'All']],\n",
       "        pagingType: \"full_numbers\",\n",
       "        columnDefs: [{targets: [0, 4, 5, 6, 7], type: \"optionalnum\"}]\n",
       "    });\n",
       "});\n",
       "</script>\n"
      ],
      "text/plain": [
       "<IPython.core.display.HTML object>"
      ]
     },
     "execution_count": 7,
     "metadata": {},
     "output_type": "execute_result"
    }
   ],
   "source": [
    "observed_table.show_in_notebook(display_length=25)"
   ]
  },
  {
   "cell_type": "markdown",
   "metadata": {},
   "source": [
    "# Undo/Redo\n",
    "\n",
    "Use these boilerplate cells to manually undo/redo addition and removal of rows between tables\n",
    "\n",
    "TODO: \"ID 1 from backlog_table to observed_table, vice versa\"\n",
    "\n",
    "Replicate observed_textbox with no comments"
   ]
  },
  {
   "cell_type": "code",
   "execution_count": 8,
   "metadata": {},
   "outputs": [
    {
     "ename": "ValueError",
     "evalue": "Mismatch between number of vals and columns",
     "output_type": "error",
     "traceback": [
      "\u001b[0;31m---------------------------------------------------------------------------\u001b[0m",
      "\u001b[0;31mValueError\u001b[0m                                Traceback (most recent call last)",
      "\u001b[0;32m<ipython-input-8-f54c69350bb6>\u001b[0m in \u001b[0;36m<module>\u001b[0;34m\u001b[0m\n\u001b[1;32m      1\u001b[0m \u001b[0;31m# Example boilerplate to manually add back a row to backlog_table\u001b[0m\u001b[0;34m\u001b[0m\u001b[0;34m\u001b[0m\u001b[0;34m\u001b[0m\u001b[0m\n\u001b[0;32m----> 2\u001b[0;31m \u001b[0mbacklog_table\u001b[0m\u001b[0;34m.\u001b[0m\u001b[0madd_row\u001b[0m\u001b[0;34m(\u001b[0m\u001b[0;34m[\u001b[0m\u001b[0;34m\"HR 0047\"\u001b[0m\u001b[0;34m,\u001b[0m \u001b[0;34m\"00:13:19.4\"\u001b[0m\u001b[0;34m,\u001b[0m \u001b[0;34m\"-84:59:39\"\u001b[0m\u001b[0;34m,\u001b[0m \u001b[0;36m2000.0\u001b[0m\u001b[0;34m,\u001b[0m \u001b[0;36m4.0\u001b[0m\u001b[0;34m,\u001b[0m \u001b[0;36m8.0\u001b[0m\u001b[0;34m,\u001b[0m \u001b[0;36m5.77\u001b[0m\u001b[0;34m]\u001b[0m\u001b[0;34m)\u001b[0m\u001b[0;34m\u001b[0m\u001b[0;34m\u001b[0m\u001b[0m\n\u001b[0m\u001b[1;32m      3\u001b[0m \u001b[0mbacklog_table\u001b[0m\u001b[0;34m.\u001b[0m\u001b[0madd_row\u001b[0m\u001b[0;34m(\u001b[0m\u001b[0;34m[\u001b[0m\u001b[0;34m\"HR 0047\"\u001b[0m\u001b[0;34m,\u001b[0m \u001b[0;34m\"00:13:19.4\"\u001b[0m\u001b[0;34m,\u001b[0m \u001b[0;34m\"-84:59:39\"\u001b[0m\u001b[0;34m,\u001b[0m \u001b[0;36m2000.0\u001b[0m\u001b[0;34m,\u001b[0m \u001b[0;36m4.0\u001b[0m\u001b[0;34m,\u001b[0m \u001b[0;36m8.0\u001b[0m\u001b[0;34m,\u001b[0m \u001b[0;36m5.77\u001b[0m\u001b[0;34m]\u001b[0m\u001b[0;34m)\u001b[0m\u001b[0;34m\u001b[0m\u001b[0;34m\u001b[0m\u001b[0m\n\u001b[1;32m      4\u001b[0m \u001b[0mbacklog_table\u001b[0m\u001b[0;34m.\u001b[0m\u001b[0madd_row\u001b[0m\u001b[0;34m(\u001b[0m\u001b[0;34m[\u001b[0m\u001b[0;34m\"HR 0047\"\u001b[0m\u001b[0;34m,\u001b[0m \u001b[0;34m\"00:13:19.4\"\u001b[0m\u001b[0;34m,\u001b[0m \u001b[0;34m\"-84:59:39\"\u001b[0m\u001b[0;34m,\u001b[0m \u001b[0;36m2000.0\u001b[0m\u001b[0;34m,\u001b[0m \u001b[0;36m4.0\u001b[0m\u001b[0;34m,\u001b[0m \u001b[0;36m8.0\u001b[0m\u001b[0;34m,\u001b[0m \u001b[0;36m5.77\u001b[0m\u001b[0;34m]\u001b[0m\u001b[0;34m)\u001b[0m\u001b[0;34m\u001b[0m\u001b[0;34m\u001b[0m\u001b[0m\n",
      "\u001b[0;32m~/opt/anaconda3/lib/python3.7/site-packages/astropy/table/table.py\u001b[0m in \u001b[0;36madd_row\u001b[0;34m(self, vals, mask)\u001b[0m\n\u001b[1;32m   2402\u001b[0m              \u001b[0;36m3\u001b[0m   \u001b[0;36m6\u001b[0m   \u001b[0;36m9\u001b[0m\u001b[0;34m\u001b[0m\u001b[0;34m\u001b[0m\u001b[0m\n\u001b[1;32m   2403\u001b[0m         \"\"\"\n\u001b[0;32m-> 2404\u001b[0;31m         \u001b[0mself\u001b[0m\u001b[0;34m.\u001b[0m\u001b[0minsert_row\u001b[0m\u001b[0;34m(\u001b[0m\u001b[0mlen\u001b[0m\u001b[0;34m(\u001b[0m\u001b[0mself\u001b[0m\u001b[0;34m)\u001b[0m\u001b[0;34m,\u001b[0m \u001b[0mvals\u001b[0m\u001b[0;34m,\u001b[0m \u001b[0mmask\u001b[0m\u001b[0;34m)\u001b[0m\u001b[0;34m\u001b[0m\u001b[0;34m\u001b[0m\u001b[0m\n\u001b[0m\u001b[1;32m   2405\u001b[0m \u001b[0;34m\u001b[0m\u001b[0m\n\u001b[1;32m   2406\u001b[0m     \u001b[0;32mdef\u001b[0m \u001b[0minsert_row\u001b[0m\u001b[0;34m(\u001b[0m\u001b[0mself\u001b[0m\u001b[0;34m,\u001b[0m \u001b[0mindex\u001b[0m\u001b[0;34m,\u001b[0m \u001b[0mvals\u001b[0m\u001b[0;34m=\u001b[0m\u001b[0;32mNone\u001b[0m\u001b[0;34m,\u001b[0m \u001b[0mmask\u001b[0m\u001b[0;34m=\u001b[0m\u001b[0;32mNone\u001b[0m\u001b[0;34m)\u001b[0m\u001b[0;34m:\u001b[0m\u001b[0;34m\u001b[0m\u001b[0;34m\u001b[0m\u001b[0m\n",
      "\u001b[0;32m~/opt/anaconda3/lib/python3.7/site-packages/astropy/table/table.py\u001b[0m in \u001b[0;36minsert_row\u001b[0;34m(self, index, vals, mask)\u001b[0m\n\u001b[1;32m   2491\u001b[0m \u001b[0;34m\u001b[0m\u001b[0m\n\u001b[1;32m   2492\u001b[0m             \u001b[0;32mif\u001b[0m \u001b[0mlen\u001b[0m\u001b[0;34m(\u001b[0m\u001b[0mself\u001b[0m\u001b[0;34m.\u001b[0m\u001b[0mcolumns\u001b[0m\u001b[0;34m)\u001b[0m \u001b[0;34m!=\u001b[0m \u001b[0mlen\u001b[0m\u001b[0;34m(\u001b[0m\u001b[0mvals\u001b[0m\u001b[0;34m)\u001b[0m\u001b[0;34m:\u001b[0m\u001b[0;34m\u001b[0m\u001b[0;34m\u001b[0m\u001b[0m\n\u001b[0;32m-> 2493\u001b[0;31m                 \u001b[0;32mraise\u001b[0m \u001b[0mValueError\u001b[0m\u001b[0;34m(\u001b[0m\u001b[0;34m'Mismatch between number of vals and columns'\u001b[0m\u001b[0;34m)\u001b[0m\u001b[0;34m\u001b[0m\u001b[0;34m\u001b[0m\u001b[0m\n\u001b[0m\u001b[1;32m   2494\u001b[0m \u001b[0;34m\u001b[0m\u001b[0m\n\u001b[1;32m   2495\u001b[0m             \u001b[0;32mif\u001b[0m \u001b[0mmask\u001b[0m \u001b[0;32mis\u001b[0m \u001b[0;32mnot\u001b[0m \u001b[0;32mNone\u001b[0m\u001b[0;34m:\u001b[0m\u001b[0;34m\u001b[0m\u001b[0;34m\u001b[0m\u001b[0m\n",
      "\u001b[0;31mValueError\u001b[0m: Mismatch between number of vals and columns"
     ]
    }
   ],
   "source": [
    "# Example boilerplate to manually add back a row to backlog_table\n",
    "backlog_table.add_row([\"HR 0047\", \"00:13:19.4\", \"-84:59:39\", 2000.0, 4.0, 8.0, 5.77])\n",
    "backlog_table.add_row([\"HR 0047\", \"00:13:19.4\", \"-84:59:39\", 2000.0, 4.0, 8.0, 5.77])\n",
    "backlog_table.add_row([\"HR 0047\", \"00:13:19.4\", \"-84:59:39\", 2000.0, 4.0, 8.0, 5.77])"
   ]
  },
  {
   "cell_type": "code",
   "execution_count": null,
   "metadata": {},
   "outputs": [],
   "source": [
    "# Example boilerplate to manually add back a row to observed_table\n",
    "observed_table.add_row([\"HR 0047\", \"00:13:19.4\", \"-84:59:39\", 2000.0, 4.0, 8.0, 5.77])\n",
    "observed_table.add_row([\"HR 0047\", \"00:13:19.4\", \"-84:59:39\", 2000.0, 4.0, 8.0, 5.77])\n",
    "observed_table.add_row([\"HR 0047\", \"00:13:19.4\", \"-84:59:39\", 2000.0, 4.0, 8.0, 5.77])"
   ]
  },
  {
   "cell_type": "code",
   "execution_count": null,
   "metadata": {},
   "outputs": [],
   "source": [
    "backlog_table.remove_rows([1, 3, 100, 111])"
   ]
  },
  {
   "cell_type": "code",
   "execution_count": null,
   "metadata": {},
   "outputs": [],
   "source": [
    "observed_table.remove_rows([1, 3, 100, 111])"
   ]
  },
  {
   "cell_type": "code",
   "execution_count": null,
   "metadata": {},
   "outputs": [],
   "source": []
  },
  {
   "cell_type": "markdown",
   "metadata": {},
   "source": [
    "# Save table state(s) for the night\n",
    "\n",
    "In order to save the state(s) of the table, we will be serializing both the backlog and observed table. When loading data for the next night, only these saved files will be needed, not the initial target files. Will overr\n",
    "\n"
   ]
  },
  {
   "cell_type": "code",
   "execution_count": 10,
   "metadata": {
    "scrolled": false
   },
   "outputs": [],
   "source": [
    "import datetime\n",
    "\n",
    "backlog_table.write('backlog_table_' + str(datetime.datetime.utcnow()) + '.ecsv', overwrite=False, serialize_method='data_mask')\n",
    "observed_table.write('observed_table' + str(datetime.datetime.utcnow()) + '.ecsv', overwrite=False, serialize_method='data_mask')"
   ]
  },
  {
   "cell_type": "code",
   "execution_count": null,
   "metadata": {},
   "outputs": [],
   "source": []
  }
 ],
 "metadata": {
  "kernelspec": {
   "display_name": "Python 3",
   "language": "python",
   "name": "python3"
  },
  "language_info": {
   "codemirror_mode": {
    "name": "ipython",
    "version": 3
   },
   "file_extension": ".py",
   "mimetype": "text/x-python",
   "name": "python",
   "nbconvert_exporter": "python",
   "pygments_lexer": "ipython3",
   "version": "3.7.4"
  }
 },
 "nbformat": 4,
 "nbformat_minor": 2
}
