{
 "cells": [
  {
   "cell_type": "markdown",
   "metadata": {},
   "source": [
    "# Overview\n",
    "\n",
    "This interactive notebook acts as an productive, ituitive way for the Speckle Imaging Group to plan observing runs. In order to ensure that this tool functions properly, there are a list of **assumptions**:\n",
    "\n",
    "- Input files will be CSV files aka comma seperated files (create a fork for it to be tab separated)\n",
    "- For complex filtering and searching of targets, you must provide your own custom filter in the cells marked below if the ones provided are not suitable\n",
    "- For \"ZERO\" values or \"EMPTY\" values, please use empty commas \",,\"\n",
    "- Anaconda will be used as the distribution source for Jupyter Notebook to ensure common dependencies"
   ]
  },
  {
   "cell_type": "markdown",
   "metadata": {},
   "source": [
    "## Download libraries if not \n",
    "\n",
    "Depending on your set up, you may have to change \"pip3\" to \"pip\""
   ]
  },
  {
   "cell_type": "code",
   "execution_count": 3,
   "metadata": {},
   "outputs": [
    {
     "name": "stdout",
     "output_type": "stream",
     "text": [
      "Requirement already up-to-date: pip in /usr/local/lib/python3.7/site-packages (20.1.1)\n",
      "Requirement already satisfied: pandas in /usr/local/lib/python3.7/site-packages (1.0.3)\n",
      "Requirement already satisfied: numpy in /usr/local/lib/python3.7/site-packages (1.18.2)\n",
      "Requirement already satisfied: python-dateutil>=2.6.1 in /usr/local/lib/python3.7/site-packages (from pandas) (2.8.1)\n",
      "Requirement already satisfied: pytz>=2017.2 in /usr/local/lib/python3.7/site-packages (from pandas) (2019.3)\n",
      "Requirement already satisfied: six>=1.5 in /Users/jonwong/Library/Python/3.7/lib/python/site-packages (from python-dateutil>=2.6.1->pandas) (1.12.0)\n",
      "Requirement already up-to-date: astropy in /usr/local/lib/python3.7/site-packages (4.0.1.post1)\n",
      "Requirement already up-to-date: astroplan in /usr/local/lib/python3.7/site-packages (0.6)\n",
      "Requirement already satisfied, skipping upgrade: numpy>=1.16 in /usr/local/lib/python3.7/site-packages (from astropy) (1.18.2)\n",
      "Requirement already satisfied, skipping upgrade: six in /Users/jonwong/Library/Python/3.7/lib/python/site-packages (from astroplan) (1.12.0)\n",
      "Requirement already satisfied, skipping upgrade: pytz in /usr/local/lib/python3.7/site-packages (from astroplan) (2019.3)\n",
      "Requirement already satisfied: ipywidgets in /usr/local/lib/python3.7/site-packages (7.5.1)\n",
      "Requirement already satisfied: widgetsnbextension~=3.5.0 in /usr/local/lib/python3.7/site-packages (from ipywidgets) (3.5.1)\n",
      "Requirement already satisfied: ipykernel>=4.5.1 in /usr/local/lib/python3.7/site-packages (from ipywidgets) (5.3.0)\n",
      "Requirement already satisfied: traitlets>=4.3.1 in /usr/local/lib/python3.7/site-packages (from ipywidgets) (4.3.3)\n",
      "Requirement already satisfied: nbformat>=4.2.0 in /usr/local/lib/python3.7/site-packages (from ipywidgets) (5.0.6)\n",
      "Requirement already satisfied: ipython>=4.0.0; python_version >= \"3.3\" in /usr/local/lib/python3.7/site-packages (from ipywidgets) (7.14.0)\n",
      "Requirement already satisfied: notebook>=4.4.1 in /usr/local/lib/python3.7/site-packages (from widgetsnbextension~=3.5.0->ipywidgets) (6.0.3)\n",
      "Requirement already satisfied: jupyter-client in /usr/local/lib/python3.7/site-packages (from ipykernel>=4.5.1->ipywidgets) (6.1.3)\n",
      "Requirement already satisfied: appnope; platform_system == \"Darwin\" in /usr/local/lib/python3.7/site-packages (from ipykernel>=4.5.1->ipywidgets) (0.1.0)\n",
      "Requirement already satisfied: tornado>=4.2 in /usr/local/lib/python3.7/site-packages (from ipykernel>=4.5.1->ipywidgets) (6.0.4)\n",
      "Requirement already satisfied: six in /Users/jonwong/Library/Python/3.7/lib/python/site-packages (from traitlets>=4.3.1->ipywidgets) (1.12.0)\n",
      "Requirement already satisfied: ipython-genutils in /usr/local/lib/python3.7/site-packages (from traitlets>=4.3.1->ipywidgets) (0.2.0)\n",
      "Requirement already satisfied: decorator in /usr/local/lib/python3.7/site-packages (from traitlets>=4.3.1->ipywidgets) (4.4.2)\n",
      "Requirement already satisfied: jupyter-core in /usr/local/lib/python3.7/site-packages (from nbformat>=4.2.0->ipywidgets) (4.6.3)\n",
      "Requirement already satisfied: jsonschema!=2.5.0,>=2.4 in /usr/local/lib/python3.7/site-packages (from nbformat>=4.2.0->ipywidgets) (3.2.0)\n",
      "Requirement already satisfied: setuptools>=18.5 in /usr/local/lib/python3.7/site-packages (from ipython>=4.0.0; python_version >= \"3.3\"->ipywidgets) (46.0.0)\n",
      "Requirement already satisfied: pexpect; sys_platform != \"win32\" in /usr/local/lib/python3.7/site-packages (from ipython>=4.0.0; python_version >= \"3.3\"->ipywidgets) (4.8.0)\n",
      "Requirement already satisfied: prompt-toolkit!=3.0.0,!=3.0.1,<3.1.0,>=2.0.0 in /usr/local/lib/python3.7/site-packages (from ipython>=4.0.0; python_version >= \"3.3\"->ipywidgets) (3.0.5)\n",
      "Requirement already satisfied: pygments in /usr/local/lib/python3.7/site-packages (from ipython>=4.0.0; python_version >= \"3.3\"->ipywidgets) (2.6.1)\n",
      "Requirement already satisfied: pickleshare in /usr/local/lib/python3.7/site-packages (from ipython>=4.0.0; python_version >= \"3.3\"->ipywidgets) (0.7.5)\n",
      "Requirement already satisfied: backcall in /usr/local/lib/python3.7/site-packages (from ipython>=4.0.0; python_version >= \"3.3\"->ipywidgets) (0.1.0)\n",
      "Requirement already satisfied: jedi>=0.10 in /usr/local/lib/python3.7/site-packages (from ipython>=4.0.0; python_version >= \"3.3\"->ipywidgets) (0.15.2)\n",
      "Requirement already satisfied: nbconvert in /usr/local/lib/python3.7/site-packages (from notebook>=4.4.1->widgetsnbextension~=3.5.0->ipywidgets) (5.6.1)\n",
      "Requirement already satisfied: pyzmq>=17 in /usr/local/lib/python3.7/site-packages (from notebook>=4.4.1->widgetsnbextension~=3.5.0->ipywidgets) (19.0.1)\n",
      "Requirement already satisfied: terminado>=0.8.1 in /usr/local/lib/python3.7/site-packages (from notebook>=4.4.1->widgetsnbextension~=3.5.0->ipywidgets) (0.8.3)\n",
      "Requirement already satisfied: jinja2 in /usr/local/lib/python3.7/site-packages (from notebook>=4.4.1->widgetsnbextension~=3.5.0->ipywidgets) (2.11.2)\n",
      "Requirement already satisfied: Send2Trash in /usr/local/lib/python3.7/site-packages (from notebook>=4.4.1->widgetsnbextension~=3.5.0->ipywidgets) (1.5.0)\n",
      "Requirement already satisfied: prometheus-client in /usr/local/lib/python3.7/site-packages (from notebook>=4.4.1->widgetsnbextension~=3.5.0->ipywidgets) (0.8.0)\n",
      "Requirement already satisfied: python-dateutil>=2.1 in /usr/local/lib/python3.7/site-packages (from jupyter-client->ipykernel>=4.5.1->ipywidgets) (2.8.1)\n",
      "Requirement already satisfied: attrs>=17.4.0 in /usr/local/lib/python3.7/site-packages (from jsonschema!=2.5.0,>=2.4->nbformat>=4.2.0->ipywidgets) (19.3.0)\n",
      "Requirement already satisfied: pyrsistent>=0.14.0 in /usr/local/lib/python3.7/site-packages (from jsonschema!=2.5.0,>=2.4->nbformat>=4.2.0->ipywidgets) (0.16.0)\n",
      "Requirement already satisfied: importlib-metadata; python_version < \"3.8\" in /usr/local/lib/python3.7/site-packages (from jsonschema!=2.5.0,>=2.4->nbformat>=4.2.0->ipywidgets) (1.6.0)\n",
      "Requirement already satisfied: ptyprocess>=0.5 in /usr/local/lib/python3.7/site-packages (from pexpect; sys_platform != \"win32\"->ipython>=4.0.0; python_version >= \"3.3\"->ipywidgets) (0.6.0)\n",
      "Requirement already satisfied: wcwidth in /usr/local/lib/python3.7/site-packages (from prompt-toolkit!=3.0.0,!=3.0.1,<3.1.0,>=2.0.0->ipython>=4.0.0; python_version >= \"3.3\"->ipywidgets) (0.1.9)\n",
      "Requirement already satisfied: parso>=0.5.2 in /usr/local/lib/python3.7/site-packages (from jedi>=0.10->ipython>=4.0.0; python_version >= \"3.3\"->ipywidgets) (0.6.2)\n",
      "Requirement already satisfied: pandocfilters>=1.4.1 in /usr/local/lib/python3.7/site-packages (from nbconvert->notebook>=4.4.1->widgetsnbextension~=3.5.0->ipywidgets) (1.4.2)\n",
      "Requirement already satisfied: defusedxml in /usr/local/lib/python3.7/site-packages (from nbconvert->notebook>=4.4.1->widgetsnbextension~=3.5.0->ipywidgets) (0.6.0)\n",
      "Requirement already satisfied: mistune<2,>=0.8.1 in /usr/local/lib/python3.7/site-packages (from nbconvert->notebook>=4.4.1->widgetsnbextension~=3.5.0->ipywidgets) (0.8.4)\n",
      "Requirement already satisfied: entrypoints>=0.2.2 in /usr/local/lib/python3.7/site-packages (from nbconvert->notebook>=4.4.1->widgetsnbextension~=3.5.0->ipywidgets) (0.3)\n",
      "Requirement already satisfied: testpath in /usr/local/lib/python3.7/site-packages (from nbconvert->notebook>=4.4.1->widgetsnbextension~=3.5.0->ipywidgets) (0.4.4)\n",
      "Requirement already satisfied: bleach in /usr/local/lib/python3.7/site-packages (from nbconvert->notebook>=4.4.1->widgetsnbextension~=3.5.0->ipywidgets) (3.1.5)\n",
      "Requirement already satisfied: MarkupSafe>=0.23 in /usr/local/lib/python3.7/site-packages (from jinja2->notebook>=4.4.1->widgetsnbextension~=3.5.0->ipywidgets) (1.1.1)\n",
      "Requirement already satisfied: zipp>=0.5 in /usr/local/lib/python3.7/site-packages (from importlib-metadata; python_version < \"3.8\"->jsonschema!=2.5.0,>=2.4->nbformat>=4.2.0->ipywidgets) (3.1.0)\n",
      "Requirement already satisfied: packaging in /usr/local/lib/python3.7/site-packages (from bleach->nbconvert->notebook>=4.4.1->widgetsnbextension~=3.5.0->ipywidgets) (20.4)\n",
      "Requirement already satisfied: webencodings in /usr/local/lib/python3.7/site-packages (from bleach->nbconvert->notebook>=4.4.1->widgetsnbextension~=3.5.0->ipywidgets) (0.5.1)\n",
      "Requirement already satisfied: pyparsing>=2.0.2 in /usr/local/lib/python3.7/site-packages (from packaging->bleach->nbconvert->notebook>=4.4.1->widgetsnbextension~=3.5.0->ipywidgets) (2.4.7)\n"
     ]
    }
   ],
   "source": [
    "!pip3 install --upgrade pip\n",
    "!pip3 install pandas numpy\n",
    "!pip3 install astropy astroplan -U\n",
    "!pip3 install ipywidgets"
   ]
  },
  {
   "cell_type": "markdown",
   "metadata": {},
   "source": [
    "## Set Up Libraries and Constants"
   ]
  },
  {
   "cell_type": "code",
   "execution_count": 1,
   "metadata": {},
   "outputs": [
    {
     "name": "stdout",
     "output_type": "stream",
     "text": [
      "<module 'ipywidgets' from '/Users/jonwong/opt/anaconda3/lib/python3.7/site-packages/ipywidgets/__init__.py'>\n",
      "7.5.1\n"
     ]
    }
   ],
   "source": [
    "from astropy.coordinates import SkyCoord\n",
    "import astropy\n",
    "import ipywidgets as widgets\n",
    "from IPython.display import display, clear_output\n",
    "from astropy.table import QTable\n",
    "import astropy.units as u\n",
    "import numpy as np\n",
    "import pandas as pd\n",
    "\n",
    "import ipywidgets as widgets\n",
    "observed_textbox = widgets.Textarea(\n",
    "    value='''Example:\n",
    "1,example comment 1\n",
    "2,example comment 3\n",
    "10\n",
    "15,example comment 10\n",
    "20\n",
    "''',\n",
    "    placeholder='Type something',\n",
    "    description='Observed: ',\n",
    "    disabled=False\n",
    ")\n",
    "\n",
    "undo_textbox = widgets.Textarea(\n",
    "    value='''Example:\n",
    "1\n",
    "3\n",
    "4\n",
    "7\n",
    "''',\n",
    "    placeholder='Type something',\n",
    "    description='Observed: ',\n",
    "    disabled=False\n",
    ")\n",
    "\n",
    "print(widgets)\n",
    "print(widgets.__version__)"
   ]
  },
  {
   "cell_type": "markdown",
   "metadata": {},
   "source": [
    "# Step 1: Importation of olist/target files \n",
    "\n",
    "Note: There are two different \"Step 1\"s.\n",
    "\n",
    "[Step 1a is intended for a first night of an observing run](#Step-1a:-ASCII-File-Importation)\n",
    "\n",
    "[Step 1b is intended as a continuation of a previous night's run](#Step-1b:-Resume-Observation-Run-From-Previous-Night(s))"
   ]
  },
  {
   "cell_type": "markdown",
   "metadata": {},
   "source": [
    "## Step 1a: File(s) Importation "
   ]
  },
  {
   "cell_type": "markdown",
   "metadata": {},
   "source": [
    "### Upload CSV File(s) via Upload Widget\n",
    "\n",
    "Note: You may upload multiple CSV files at once\n",
    "\n",
    "**Column Descriptions:**\n",
    "\n",
    "- column 1: star_id\n",
    "- column 2: queue_id\n",
    "- column 3: right ascension\n",
    "- column 4: declination\n",
    "- column 5: epoch\n",
    "- column 6: proper motion for right asencsion \n",
    "- column 7: proper motion for declination\n",
    "- column 8: magnitude\n",
    "- column 9: priority number (nullable)\n",
    "- column 10: principal investigator (nullable)\n",
    "- column 11: comment (nullable)\n",
    "\n",
    "**Example Input file:**\n",
    "\n",
    "HIP33451,06:57:17.6,-35:30:26,2000.00,,,6.22,3,joncwong,comment<br/>\n",
    "HR 2518,06:47:21.4,-37:55:47,2000.00,-7.0,-15.0,5.26,1,howell<br/>\n",
    "HIP38382,07:51:46.3,-13:53:53,2000.00,,,5.16,1,nic,testtesttesttest<br/>\n",
    "HR 3073,07:52:18.9,-14:50:47,2000.00,-11.0,-2.0,5.69,1,nic<br/>\n",
    "HIP41426,08:26:57.7,-52:42:18,2000.00,,,6.49,2,howell,another test comment<br/>\n",
    "HR 3350,08:27:36.5,-53:05:19,2000.00,-68.0,13.0,5.09,1,,<br/>\n",
    "HIP78727,16:04:22.2,-11:22:23,2000.00,,,4.17,1,,test comment 2<br/>\n",
    "HR 6048,16:13:50.9,-11:50:15,2000.00,-10.0,-6.0,5.22,5,,test comment<br/>\n",
    "H101769,20:37:32.9,+14:35:43,2000.00,,,4.03,2,,<br/>\n",
    "HR 7918,20:41:16.2,+14:34:59,2000.00,-6.0,2.0,5.99,2,,<br/>\n",
    "H104858,21:14:28.8,+10:00:28,2000.00,,,5.07,3,,<br/>\n",
    "HR 8149,21:18:52.0,+11:12:12,2000.00,26.0,15.0,5.96,1,,<br/>\n",
    "H111974,22:40:52.5,+14:32:56,2000.00,,,6.14,1,,<br/>\n",
    "HR 8642,22:41:57.4,+14:30:59,2000.00,92.0,-21.0,5.9,1,,COMMENT<br/>"
   ]
  },
  {
   "cell_type": "code",
   "execution_count": 3,
   "metadata": {},
   "outputs": [
    {
     "data": {
      "application/vnd.jupyter.widget-view+json": {
       "model_id": "72ea6414d72948ad8681a386c9a7dc62",
       "version_major": 2,
       "version_minor": 0
      },
      "text/plain": [
       "FileUpload(value={}, description='Upload', multiple=True)"
      ]
     },
     "metadata": {},
     "output_type": "display_data"
    }
   ],
   "source": [
    "uploaded = widgets.FileUpload(\n",
    "    accept='',\n",
    "    multiple=True\n",
    ")\n",
    "uploaded"
   ]
  },
  {
   "cell_type": "markdown",
   "metadata": {},
   "source": [
    "### Step 1a cont: Parse CSV File into a Python List\n",
    "\n",
    "We parse the CSV File into a List data structure before importing the list into an AstroPy table"
   ]
  },
  {
   "cell_type": "code",
   "execution_count": 7,
   "metadata": {},
   "outputs": [
    {
     "name": "stdout",
     "output_type": "stream",
     "text": [
      "['H132419', '132-1196', '9:38:13', '+23:32:49', '2000', 0.0, 0.0, 0, '1', '', '7.40 Howell_Kane/HD83342 #132-1196']\n",
      "['HR 3900', '132-804', '9:51:53', '+24:23:43', '2000', 0.0, 0.0, 0, '1', '', '#132-804']\n",
      "['HR 3815', '101-531', '9:35:40', '+35:48:37', '2000', 0.0, 0.0, 0, '1', '', '#101-531']\n",
      "['H101037', '101-475', '9:52:39', '+35:06:42', '2000', 0.0, 0.0, 0, '1', '', '7.80 CROSSFIELD/TIC4897275 #101-475']\n",
      "['HR 3928', '132-812', '9:57:41', '+41:03:20', '2000', 0.0, 0.0, 0, '1', '', '#132-812']\n",
      "['H132512', '132-1110', '10:00:28', '+39:27:28', '2000', 0.0, 0.0, 0, '1', '', '10.92 Howell_TOI/TOI1775 #132-1110 no speckle obs']\n",
      "['HR 3881', '132-1278', '9:48:35', '+46:01:16', '2000', 0.0, 0.0, 0, '1', '', '#132-1278']\n",
      "['H132513', '132-1201', '10:06:53', '+45:52:60', '2000', 0.0, 0.0, 0, '1', '', '8.68 Howell_TOI/TOI1792 #132-1201 no speckle obs']\n",
      "['H132514', '132-761 ', '10:07:14', '+46:06:54', '2000', 0.0, 0.0, 0, '1', '', '8.74 Howell_TOI/TOI1777 #132-761 no speckle obs']\n",
      "['HR 3954', '101-549', '10:04:36', '+53:53:30', '2000', 0.0, 0.0, 0, '1', '', '#101-549']\n",
      "['H101038', '101-489', '10:08:25', '+55:32:24', '2000', 0.0, 0.0, 0, '1', '', '10.42 CROSSFIELD/TIC137906197 #101-489']\n",
      "['H132516', '132-1239', '10:09:19', '+39:09:45', '2000', 0.0, 0.0, 0, '1', '', '10.38 Howell_TOI/TOI1787 #132-1239 no speckle obs']\n",
      "['HR 3993', '132-796', '10:11:13', '+37:24:07', '2000', 0.0, 0.0, 0, '1', '', '#132-796']\n",
      "['HR 4081', '101-561', '10:24:09', '+33:43:07', '2000', 0.0, 0.0, 0, '1', '', '#101-561']\n",
      "['H101039', '101-465', '10:27:21', '+34:23:28', '2000', 0.0, 0.0, 0, '1', '', '9.96 CROSSFIELD/TIC85293053 #101-465']\n",
      "['H132520', '132-1079', '10:51:06', '+25:38:28', '2000', 0.0, 0.0, 0, '1', '', '\"8.63 Howell_TOI/TOI1797 #132-1079 no speckle obs', ' also Howell_Livingston\"']\n",
      "['HR 4189', '101-541', '10:43:02', '+26:19:32', '2000', 0.0, 0.0, 0, '1', '', '#101-541']\n",
      "['H101042', '101-468', '10:57:01', '+24:52:56', '2000', 0.0, 0.0, 0, '1', '', '11.83 CROSSFIELD/TIC138762614 #101-468']\n",
      "['HR 4240', '\"321-48', ' \"', '10:51:05', '-3:05:33', '2000', 0.0, 0, '', '3', '', '\"#321-48', ' 562+716\"']\n",
      "['HR 4240', '\"321-48', ' \"', '10:51:05', '-3:05:33', '2000', 0.0, 0, '', '3', '', '\"#321-48', ' 562+832\"']\n",
      "['H321024', '\"321-26', ' \"', '11:04:41', '-4:13:25', '2000', 0.0, 0, '', '3', '', '\"9.87 DUPUY/HD96064BC #321-26', ' 562+832\"']\n",
      "['H321024', '\"321-26', ' \"', '11:04:41', '-4:13:25', '2000', 0.0, 0, '', '3', '', '\"9.87 DUPUY/HD96064BC #321-26', ' 562+716\"']\n",
      "['H304026', '304-126', '11:01:20', '+03:00:17', '2000', 0.0, 0.0, 0, '3', '', '14.06 WINTERS/LHS0296 #304-126']\n",
      "['HR 4306', '304-65', '11:03:37', '-0:00:03', '2000', 0.0, 0.0, 0, '3', '', '#304-65']\n",
      "['HR 4404', '304-45', '11:24:59', '+11:25:49', '2000', 0.0, 0.0, 0, '3', '', '#304-45']\n",
      "['H304027', '304-32', '11:28:56', '+10:10:39', '2000', 0.0, 0.0, 0, '3', '', '13.10 WINTERS/LHS2415 #304-32']\n",
      "['HR 4203', '132-729', '10:45:52', '+30:40:56', '2000', 0.0, 0.0, 0, '1', '', '#132-729']\n",
      "['H132526', '132-723 ', '11:26:23', '+28:03:24', '2000', 0.0, 0.0, 0, '1', '', '11.67 Howell_TOI/TOI1808 #132-723 no speckle obs']\n",
      "['HR 4495', '101-557', '11:40:47', '+21:21:10', '2000', 0.0, 0.0, 0, '1', '', '#101-557']\n",
      "['H101045', '101-425', '11:42:18', '+23:01:37', '2000', 0.0, 0.0, 0, '1', '', '11.41 CROSSFIELD/TIC119584412 #101-425']\n",
      "['HR 4536', '101-521', '11:49:42', '+34:55:54', '2000', 0.0, 0.0, 0, '1', '', '#101-521']\n",
      "['H101046', '101-498', '11:52:11', '+35:10:18', '2000', 0.0, 0.0, 0, '1', '', '11.87 CROSSFIELD/TIC144401492 #101-498']\n",
      "['HR 4643', '132-815', '12:12:09', '+20:32:31', '2000', 0.0, 0.0, 0, '1', '', '#132-815']\n",
      "['H132530', '132-1136', '12:17:28', '+19:50:24', '2000', 0.0, 0.0, 0, '1', '', '10.07 Howell_TOI/TOI1795 #132-1136 no speckle obs; also Howell_Livingston']\n",
      "['HR 4690', '132-976', '12:19:49', '+48:59:03', '2000', 0.0, 0.0, 0, '1', '', '#132-976']\n",
      "['H132531', '132-1203', '12:26:20', '+46:28:15', '2000', 0.0, 0.0, 0, '1', '', '10.50 Howell_TOI/TOI1817 #132-1203 no speckle obs']\n",
      "['HR 4738', '132-967', '12:26:59', '+26:49:32', '2000', 0.0, 0.0, 0, '1', '', '#132-967']\n",
      "['H132532', '132-715 ', '12:30:45', '+27:27:07', '2000', 0.0, 0.0, 0, '1', '', '10.53 Howell_TOI/TOI1820 #132-715 no speckle obs']\n",
      "['H132533', '132-802 ', '12:35:41', '+27:12:52', '2000', 0.0, 0.0, 0, '1', '', '11.12 Howell_TOI/TOI1811 #132-802 no speckle obs']\n",
      "['H132534', '132-876 ', '12:39:21', '+20:01:38', '2000', 0.0, 0.0, 0, '1', '', '\"7.66 Howell_TOI/TOI1835 #132-876 no speckle obs', ' also Howell_Livingston\"']\n",
      "['HR 4815', '132-1105', '12:39:07', '+21:03:45', '2000', 0.0, 0.0, 0, '1', '', '#132-1105']\n",
      "['HR 4865', '132-748', '12:48:54', '+14:07:21', '2000', 0.0, 0.0, 0, '1', '', '#132-748']\n",
      "['H132418', '132-1089', '12:53:50', '+12:25:06', '2000', 0.0, 0.0, 0, '1', '', '5.93 Howell_Pepper/41Vir #132-1089']\n",
      "['H114008', '\"114-10', ' \"', '13:03:50', '-5:09:43', '2000', 0.0, 0, '', '1', '', '\"7.68 NIELSEN/PXVir #114-10', ' 466+716\"']\n",
      "['HR 4957', '114-19', '13:08:33', '-8:59:04', '2000', 0.0, 0.0, 0, '1', '', '#114-19']\n",
      "['H101049', '101-448', '13:07:20', '+05:51:08', '2000', 0.0, 0.0, 0, '1', '', '10.90 CROSSFIELD/TIC381714186 #101-448']\n",
      "['HR 4960', '101-544', '13:09:12', '+10:01:20', '2000', 0.0, 0.0, 0, '1', '', '#101-544']\n",
      "['HR 4962', '191-53', '13:09:48', '+16:50:55', '2000', 0.0, 0.0, 0, '1', '', '#191-53']\n",
      "['H132332', '\"191-31', ' \"', '13:10:00', '+17:31:45', '2000', 0.0, 0, '', '1', '', '\"4.32 HOWELL_CALIB #191-31', ' SCALE/rho=0.513\"\"\"']\n",
      "['HR 4949', '132-755', '13:06:23', '+22:36:58', '2000', 0.0, 0.0, 0, '1', '', '#132-755']\n",
      "['H132538', '132-1013', '13:08:17', '+23:07:15', '2000', 0.0, 0.0, 0, '1', '', '13.49 Howell_TOI/TOI1852 #132-1013 no speckle obs']\n",
      "['H101051', '101-451', '13:10:56', '+61:44:41', '2000', 0.0, 0.0, 0, '1', '', '9.72 CROSSFIELD/TIC142387023 #101-451']\n",
      "['H132421', '132-948 ', '13:17:01', '+57:16:59', '2000', 0.0, 0.0, 0, '1', '', '8.70 Howell_Kane/HD115587 #132-948 also HOWELL_LINTOTT']\n",
      "['HR 5085', '101-510', '13:28:27', '+59:56:45', '2000', 0.0, 0.0, 0, '1', '', '#101-510']\n",
      "['H132010', '132-470', '13:34:09', '+67:37:16', '2000', 0.0, 0.0, 0, '1', '', '9.98 HOWELL_DRESSING/TOI1435 #132-470']\n",
      "['HR 5162', '132-142', '13:41:30', '+64:49:21', '2000', 0.0, 0.0, 0, '1', '', '#132-142']\n",
      "['HR 5023', '132-287', '13:18:15', '+49:40:55', '2000', 0.0, 0.0, 0, '1', '', '#132-287']\n",
      "['H101053', '101-490', '13:33:36', '+49:03:40', '2000', 0.0, 0.0, 0, '1', '', '10.32 CROSSFIELD/TIC286916251 #101-490']\n",
      "['HR 5067', '132-898', '13:26:17', '+46:01:41', '2000', 0.0, 0.0, 0, '1', '', '#132-898']\n",
      "['H132548', '132-1225', '13:37:46', '+48:15:00', '2000', 0.0, 0.0, 0, '1', '', '10.50 Howell_TOI/TOI1848 #132-1225 no speckle obs']\n",
      "['H101054', '101-464', '14:04:23', '+46:31:10', '2000', 0.0, 0.0, 0, '1', '', '11.36 CROSSFIELD/TIC198153540 #101-464']\n",
      "['HR 5299', '101-517', '14:07:56', '+43:51:16', '2000', 0.0, 0.0, 0, '1', '', '#101-517']\n",
      "['H101057', '101-473', '14:12:19', '+74:24:42', '2000', 0.0, 0.0, 0, '1', '', '11.83 CROSSFIELD/TIC160045097 #101-473']\n",
      "['HR 5073', '101-520', '13:26:08', '+72:23:29', '2000', 0.0, 0.0, 0, '1', '', '#101-520']\n",
      "['H101058', '101-481', '14:18:13', '+82:11:39', '2000', 0.0, 0.0, 0, '1', '', '11.02 CROSSFIELD/TIC158002130 #101-481']\n",
      "['HR 5203', '101-547', '13:42:23', '+82:45:09', '2000', 0.0, 0.0, 0, '1', '', '#101-547']\n",
      "['HR 5184', '304-72', '13:42:39', '+78:03:52', '2000', 0.0, 0.0, 0, '3', '', '#304-72']\n",
      "['H304038', '304-68', '14:31:14', '+75:26:42', '2000', 0.0, 0.0, 0, '3', '', '14.20 WINTERS/LEP1431+7526 #304-68']\n",
      "['H132153', '\"132-538', '\"', '14:27:42', '+41:57:11', '2000', 0.0, 0, '', '1', '', '\"9.07 HOWELL_TOI/TOI1416 #132-538', ' also Howell_Livingston\"']\n",
      "['H132154', '132-253', '14:36:09', '+42:22:42', '2000', 0.0, 0.0, 0, '1', '', '8.40 HOWELL_TOI/TOI1415 #132-253']\n",
      "['HR 5464', '132-607', '14:38:13', '+43:38:31', '2000', 0.0, 0.0, 0, '1', '', '#132-607']\n",
      "['H101059', '101-412', '15:05:50', '+64:02:50', '2000', 0.0, 0.0, 0, '1', '', '8.41 CROSSFIELD/TIC202426247 #101-412']\n",
      "['HR 5737', '101-529', '15:22:38', '+63:20:29', '2000', 0.0, 0.0, 0, '1', '', '#101-529']\n",
      "['HR 5709', '191-30', '15:20:09', '+29:36:58', '2000', 0.0, 0.0, 0, '1', '', '#191-30']\n",
      "['H132336', '\"191-10', ' \"', '15:23:12', '+30:17:18', '2000', 0.0, 0, '', '1', '', '\"5.61 HOWELL_CALIB #191-10', ' SCALE/rho=0.385\"\"\"']\n",
      "['H101060', '101-482', '15:28:34', '+55:11:07', '2000', 0.0, 0.0, 0, '1', '', '9.54 CROSSFIELD/TIC165763244 #101-482']\n",
      "['HR 5811', '101-513', '15:35:16', '+53:55:19', '2000', 0.0, 0.0, 0, '1', '', '#101-513']\n",
      "['H132158', '132-548', '15:31:47', '+47:03:20', '2000', 0.0, 0.0, 0, '1', '', '9.10 HOWELL_TOI/TOI1411 #132-548']\n",
      "['H132159', '132-200', '15:32:16', '+47:51:39', '2000', 0.0, 0.0, 0, '1', '', '11.10 HOWELL_TOI/TOI1412 #132-200']\n",
      "['HR 5830', '132-399', '15:38:16', '+46:47:52', '2000', 0.0, 0.0, 0, '1', '', '#132-399']\n",
      "['H304044', '304-104', '15:40:04', '+43:29:39', '2000', 0.0, 0.0, 0, '3', '', '11.91 WINTERS/GJ1194A #304-104']\n",
      "['H304045', '304-55', '15:40:04', '+43:29:35', '2000', 0.0, 0.0, 0, '3', '', '13.38 WINTERS/GJ1194B #304-55']\n",
      "['HR 5932', '304-124', '15:54:38', '+43:08:19', '2000', 0.0, 0.0, 0, '3', '', '#304-124']\n",
      "['H101062', '101-472', '16:01:13', '+68:56:14', '2000', 0.0, 0.0, 0, '1', '', '11.83 CROSSFIELD/TIC237099296 #101-472']\n",
      "['HR 6025', '101-552', '16:06:20', '+67:48:37', '2000', 0.0, 0.0, 0, '1', '', '#101-552']\n",
      "['H101063', '101-488', '16:07:03', '+67:52:40', '2000', 0.0, 0.0, 0, '1', '', '10.55 CROSSFIELD/TIC232982558 #101-488']\n",
      "['HR 5886', '101-518', '15:46:40', '+62:35:58', '2000', 0.0, 0.0, 0, '1', '', '#101-518']\n",
      "['H101066', '101-477', '16:13:57', '+63:32:03', '2000', 0.0, 0.0, 0, '1', '', '9.00 CROSSFIELD/TIC287080092 #101-477']\n",
      "['H101067', '101-502', '16:23:16', '+62:55:30', '2000', 0.0, 0.0, 0, '1', '', '11.52 CROSSFIELD/TIC198186769 #101-502']\n",
      "['H101068', '101-409', '16:28:11', '+63:29:55', '2000', 0.0, 0.0, 0, '1', '', '11.20 CROSSFIELD/TIC198206613 #101-409']\n",
      "['HR 6170', ' NO QID', '16:32:26', '+60:49:24', '2000', 0.0, 0.0, 0, ' ', '', '# NO QID']\n",
      "['H101070', '101-471', '16:49:53', '+61:10:25', '2000', 0.0, 0.0, 0, '1', '', '11.83 CROSSFIELD/TIC289580577 #101-471']\n",
      "['H304048', '304-129', '16:34:20', '+57:09:50', '2000', 0.0, 0.0, 0, '3', '', '12.91 WINTERS/GJ0630.1AB #304-129']\n",
      "['HR 6199', '304-113', '16:38:00', '+56:00:56', '2000', 0.0, 0.0, 0, '3', '', '#304-113']\n",
      "['H101072', '101-466', '16:58:01', '+57:18:20', '2000', 0.0, 0.0, 0, '1', '', '10.90 CROSSFIELD/TIC224596152 #101-466']\n",
      "['H101074', '101-417', '17:01:36', '+79:04:02', '2000', 0.0, 0.0, 0, '1', '', '12.20 CROSSFIELD/TIC367753709 #101-417']\n",
      "['HR 6529', '101-539', '17:19:37', '+80:08:11', '2000', 0.0, 0.0, 0, '1', '', '#101-539']\n",
      "['H101075', '101-429', '17:09:19', '+71:52:35', '2000', 0.0, 0.0, 0, '1', '', '8.86 CROSSFIELD/TIC219857012 #101-429']\n",
      "['HR 6606', '101-526', '17:37:09', '+72:27:21', '2000', 0.0, 0.0, 0, '1', '', '#101-526']\n",
      "['H101076', '101-427', '17:12:54', '+57:11:52', '2000', 0.0, 0.0, 0, '1', '', '11.11 CROSSFIELD/TIC198390247 #101-427']\n",
      "['HR 6511', '101-551', '17:25:41', '+60:02:54', '2000', 0.0, 0.0, 0, '1', '', '#101-551']\n",
      "['HR 6421', '101-564', '17:12:33', '+62:52:28', '2000', 0.0, 0.0, 0, '1', '', '#101-564']\n",
      "['H101078', '101-501', '17:23:03', '+63:06:39', '2000', 0.0, 0.0, 0, '1', '', '9.60 CROSSFIELD/TIC233684293 #101-501']\n",
      "['HR 6529', '132-1293', '17:19:37', '+80:08:11', '2000', 0.0, 0.0, 0, '1', '', '#132-1293']\n",
      "['H132723', '132-1292', '17:47:51', '+83:25:44', '2000', 0.0, 0.0, 0, '1', '', '8.70 Howell_Livingston/TOI1147 #132-1292']\n",
      "['H101008', '101-335 ', '17:59:14', '+64:08:34', '2000', 0.0, 0.0, 0, '1', '', '6.90 CROSSFIELD/tic233059608 #101-335 TOI-1250']\n",
      "['H101079', '101-411', '18:03:14', '+60:40:32', '2000', 0.0, 0.0, 0, '1', '', '11.55 CROSSFIELD/TIC233071822 #101-411']\n",
      "['HR 7018', '101-392', '18:37:34', '+62:31:36', '2000', 0.0, 0.0, 0, '1', '', '#101-392']\n",
      "['HR 6811', '101-512', '17:30:48', '+86:58:05', '2000', 0.0, 0.0, 0, '1', '', '#101-512']\n",
      "['H101081', '101-494', '18:09:38', '+86:51:35', '2000', 0.0, 0.0, 0, '1', '', '9.70 CROSSFIELD/TIC268334473 #101-494']\n",
      "['HR 6725', '132-660', '17:55:11', '+72:00:18', '2000', 0.0, 0.0, 0, '1', '', '#132-660']\n",
      "['H132460', '132-743 ', '18:23:27', '+71:34:54', '2000', 0.0, 0.0, 0, '1', '', '10.52 Howell_TOI_SOAR/TOI1301 #132-743 only soar obs']\n",
      "['HR 6529', '101-539', '17:19:37', '+80:08:11', '2000', 0.0, 0.0, 0, '1', '', '#101-539']\n",
      "['H101082', '101-421', '18:31:42', '+82:18:21', '2000', 0.0, 0.0, 0, '1', '', '10.08 CROSSFIELD/TIC288631580 #101-421']\n",
      "['H132007', '132-501', '18:31:47', '+56:39:03', '2000', 0.0, 0.0, 0, '1', '', '9.16 HOWELL_KANE/HD238894 #132-501']\n",
      "['HR 7175', '132-53', '18:56:45', '+57:48:54', '2000', 0.0, 0.0, 0, '1', '', '#132-53']\n",
      "['HR 6865', '132-1272', '18:15:17', '+68:45:21', '2000', 0.0, 0.0, 0, '1', '', '#132-1272']\n",
      "['H132422', '132-1142', '18:39:20', '+69:31:23', '2000', 0.0, 0.0, 0, '1', '', '9.90 Howell_Kane/TOI1859 #132-1142 also HOWELL_TOI']\n",
      "['HR 7117', '101-515', '18:45:47', '+74:05:08', '2000', 0.0, 0.0, 0, '1', '', '#101-515']\n",
      "['H101085', '101-450', '18:46:19', '+75:18:12', '2000', 0.0, 0.0, 0, '1', '', '11.21 CROSSFIELD/TIC424391516 #101-450']\n",
      "['H132011', '132-33', '19:09:10', '+74:10:27', '2000', 0.0, 0.0, 0, '1', '', '15.39 HOWELL_DRESSING/TOI1442 #132-33']\n",
      "['HR 7175', '101-560', '18:56:45', '+57:48:54', '2000', 0.0, 0.0, 0, '1', '', '#101-560']\n",
      "['H101087', '101-407', '19:07:25', '+59:05:12', '2000', 0.0, 0.0, 0, '1', '', '12.30 CROSSFIELD/TIC377293776 #101-407']\n",
      "['HR 7215', '132-1067', '19:01:26', '+46:56:05', '2000', 0.0, 0.0, 0, '1', '', '#132-1067']\n",
      "['H132462', '132-856 ', '19:06:12', '+44:04:51', '2000', 0.0, 0.0, 0, '1', '', '10.50 Howell_TOI_SOAR/TOI1192 #132-856 only soar obs']\n",
      "['HR 7237', '\"321-50', ' \"', '19:04:58', '+31:44:40', '2000', 0.0, 0, '', '3', '', '\"#321-50', ' 562+716\"']\n",
      "['H321003', '321-5', '19:07:43', '+32:32:42', '2000', 0.0, 0.0, 0, '3', '', '11.26 DUPUY/G207-16 #321-5']\n",
      "['H321003', '\"321-5', ' 5\"', '19:07:43', '+32:32:42', '2000', 0.0, 0, '', '3', '', '\"11.26 DUPUY/G207-16 #321-5', ' 562+832\"']\n",
      "['HR 7237', '321-50', '19:04:58', '+31:44:40', '2000', 0.0, 0.0, 0, '3', '', '#321-50']\n",
      "['HR 7215', '\"219-234', '\"', '19:01:26', '+46:56:05', '2000', 0.0, 0, '', '2', '', '\"#219-234', ' 562+716\"']\n",
      "['H219031', '\"219-104', '\"', '19:07:48', '+45:08:32', '2000', 0.0, 0, '', '2', '', '\"11.90 KRAUS/KOI-8174 #219-104', ' 562+716\"']\n",
      "['H219040', '\"219-111', '\"', '19:11:08', '+47:13:41', '2000', 0.0, 0, '', '2', '', '\"11.84 KRAUS/KOI-6216 #219-111', ' 562+716\"']\n",
      "['H219033', '\"219-139', '\"', '19:13:40', '+46:35:26', '2000', 0.0, 0, '', '2', '', '\"12.99 KRAUS/KOI-1852 #219-139', ' 562+716\"']\n",
      "['H132401', '132-1200', '19:18:58', '+44:38:51', '2000', 0.0, 0.0, 0, '1', '', '11.60 Howell_Ciardi/KOI5 #132-1200']\n",
      "['HR 7382', '132-869', '19:23:57', '+43:23:17', '2000', 0.0, 0.0, 0, '1', '', '#132-869']\n",
      "['H219024', '\"219-102', '\"', '19:18:43', '+40:42:02', '2000', 0.0, 0, '', '2', '', '\"14.26 KRAUS/KOI-1677 #219-102', ' 562+716\"']\n",
      "['H219023', '\"219-117', '\"', '19:19:33', '+43:14:02', '2000', 0.0, 0, '', '2', '', '\"13.35 KRAUS/KOI-7842 #219-117', ' 562+716\"']\n",
      "['H219003', '\"219-97', ' \"', '19:21:57', '+40:37:50', '2000', 0.0, 0, '', '2', '', '\"12.70 KRAUS/KOI-7559 #219-97', ' 562+716\"']\n",
      "['HR 7382', '\"219-224', '\"', '19:23:57', '+43:23:17', '2000', 0.0, 0, '', '2', '', '\"#219-224', ' 562+716\"']\n",
      "['HR 7408', '132-1245', '19:27:26', '+52:19:14', '2000', 0.0, 0.0, 0, '1', '', '#132-1245']\n",
      "['H132423', '132-878 ', '19:28:40', '+53:29:14', '2000', 0.0, 0.0, 0, '1', '', '9.30 Howell_Kane/TIC26547036 #132-878 also HOWELL_LINTOTT']\n",
      "['H219016', '\"219-106', '\"', '19:29:30', '+37:37:51', '2000', 0.0, 0, '', '2', '', '\"13.95 KRAUS/KOI-0151 #219-106', ' 562+716\"']\n",
      "['H219012', '\"219-129', '\"', '19:34:29', '+39:01:21', '2000', 0.0, 0, '', '2', '', '\"13.58 KRAUS/KOI-1208 #219-129', ' 562+716\"']\n",
      "['H219011', '\"219-119', '\"', '19:45:49', '+39:35:55', '2000', 0.0, 0, '', '2', '', '\"14.15 KRAUS/KOI-2547 #219-119', ' 562+716\"']\n",
      "['HR 7543', '\"219-225', '\"', '19:47:28', '+38:24:27', '2000', 0.0, 0, '', '2', '', '\"#219-225', ' 562+716\"']\n",
      "['HR 7628', '101-383', '19:57:14', '+40:22:05', '2000', 0.0, 0.0, 0, '1', '', '#101-383']\n",
      "['H101009', '101-346 ', '20:02:50', '+39:40:06', '2000', 0.0, 0.0, 0, '1', '', '10.74 CROSSFIELD/tic356158613 #101-346 TOI-1449']\n",
      "['H132626', '132-687 ', '20:02:28', '+53:22:39', '2000', 0.0, 0.0, 0, '1', '', '8.39 Howell_TOI/TOI1430 #132-687 no speckle obs']\n",
      "['H132627', '132-684 ', '20:03:21', '+53:17:44', '2000', 0.0, 0.0, 0, '1', '', '10.57 Howell_TOI/TOI1310 #132-684 no speckle obs']\n",
      "['H132628', '132-1022', '20:03:22', '+53:17:39', '2000', 0.0, 0.0, 0, '1', '', '11.16 Howell_TOI/TOI1454 #132-1022 no speckle obs']\n",
      "['HR 7697', '132-1162', '20:06:14', '+53:09:57', '2000', 0.0, 0.0, 0, '1', '', '#132-1162']\n",
      "['H132724', '132-1291', '20:08:06', '+66:51:01', '2000', 0.0, 0.0, 0, '1', '', '8.80 Howell_Livingston/TOI1339 #132-1291']\n",
      "['HR 7783', '132-1290', '20:17:31', '+66:51:14', '2000', 0.0, 0.0, 0, '1', '', '#132-1290']\n",
      "['HR 7689', '110-97', '20:06:22', '+35:58:21', '2000', 0.0, 0.0, 0, '1', '', '#110-97']\n",
      "['H110008', '\"110-54', ' \"', '20:10:14', '+36:10:35', '2000', 0.0, 0, '', '1', '', '\"8.08 SHARA/HD191765 #110-54', ' 768x768 size', ' 466+716 filters?\"']\n",
      "['HR 7770', '101-382', '20:18:39', '+34:58:58', '2000', 0.0, 0.0, 0, '1', '', '#101-382']\n",
      "['H101010', '101-337 ', '20:26:58', '+33:44:40', '2000', 0.0, 0.0, 0, '1', '', '8.04 CROSSFIELD/tic199376584 #101-337 TOI-1456']\n",
      "['HR 7800', '132-963', '20:22:45', '+41:01:34', '2000', 0.0, 0.0, 0, '1', '', '#132-963']\n",
      "['H132474', '132-653 ', '20:28:04', '+39:52:38', '2000', 0.0, 0.0, 0, '1', '', '10.33 Howell_TOI_SOAR/TOI1316 #132-653 only soar obs']\n",
      "['H132478', '132-862 ', '20:55:32', '+46:30:08', '2000', 0.0, 0.0, 0, '1', '', '10.15 Howell_TOI_SOAR/TOI1353 #132-862 only soar obs']\n",
      "['HR 8020', '101-389', '20:55:50', '+47:25:04', '2000', 0.0, 0.0, 0, '1', '', '#101-389']\n",
      "['H101011', '101-340 ', '21:00:40', '+47:47:10', '2000', 0.0, 0.0, 0, '1', '', '10.01 CROSSFIELD/tic330468175 #101-340 TOI-1360']\n",
      "['HR 8025', '101-390', '20:56:26', '+50:43:43', '2000', 0.0, 0.0, 0, '1', '', '#101-390']\n",
      "['H101012', '101-331 ', '21:07:49', '+50:30:03', '2000', 0.0, 0.0, 0, '1', '', '10.20 CROSSFIELD/tic357972447 #101-331 TOI-1357']\n",
      "['HR 8003', '101-395', '20:53:19', '+45:10:55', '2000', 0.0, 0.0, 0, '1', '', '#101-395']\n",
      "['H101013', '101-338 ', '21:11:52', '+43:35:34', '2000', 0.0, 0.0, 0, '1', '', '9.13 CROSSFIELD/tic136971594 #101-338 TOI-1368']\n",
      "['H132655', '132-845 ', '21:25:08', '+40:53:16', '2000', 0.0, 0.0, 0, '1', '', '10.13 Howell_TOI/TOI1395 #132-845 no speckle obs']\n",
      "['HR 8266', '132-1199', '21:36:57', '+40:24:49', '2000', 0.0, 0.0, 0, '1', '', '#132-1199']\n",
      "['HR 8216', '132-1069', '21:26:52', '+48:50:06', '2000', 0.0, 0.0, 0, '1', '', '#132-1069']\n",
      "['H132659', '132-982 ', '21:35:28', '+51:19:25', '2000', 0.0, 0.0, 0, '1', '', '10.31 Howell_TOI/TOI1390 #132-982 no speckle obs']\n",
      "['HR 8262', '110-95', '21:36:02', '+45:22:29', '2000', 0.0, 0.0, 0, '1', '', '#110-95']\n",
      "['H110012', '\"110-22', ' \"', '21:42:43', '+43:35:10', '2000', 0.0, 0, '', '1', '', '\"7.70 SHARA/V*SSCyg #110-22', ' 768x768 size', ' 466+716 filters?\"']\n",
      "['H101098', '101-491', '21:47:25', '+62:45:14', '2000', 0.0, 0.0, 0, '1', '', '11.00 CROSSFIELD/TIC408636441 #101-491']\n",
      "['HR 8388', '101-516', '21:58:53', '+62:41:54', '2000', 0.0, 0.0, 0, '1', '', '#101-516']\n",
      "['HR 8339', '132-1062', '21:47:25', '+60:41:34', '2000', 0.0, 0.0, 0, '1', '', '#132-1062']\n",
      "['H132668', '132-1153', '21:52:52', '+60:34:09', '2000', 0.0, 0.0, 0, '1', '', '10.48 Howell_TOI/TOI1502 #132-1153 no speckle obs']\n",
      "['HR 8403', '101-522', '22:01:51', '+52:52:56', '2000', 0.0, 0.0, 0, '1', '', '#101-522']\n",
      "['H101099', '101-497', '22:06:17', '+52:42:07', '2000', 0.0, 0.0, 0, '1', '', '10.58 CROSSFIELD/TIC326114850 #101-497']\n",
      "['H132672', '132-709 ', '22:09:09', '+57:56:20', '2000', 0.0, 0.0, 0, '1', '', '10.74 Howell_TOI/TOI1403 #132-709 no speckle obs']\n",
      "['HR 8472', '132-851', '22:11:49', '+56:50:22', '2000', 0.0, 0.0, 0, '1', '', '#132-851']\n",
      "['H132673', '132-699 ', '22:10:27', '+63:33:02', '2000', 0.0, 0.0, 0, '1', '', '8.75 Howell_TOI/TOI1480 #132-699 no speckle obs']\n",
      "['HR 8483', '132-992', '22:12:22', '+63:17:29', '2000', 0.0, 0.0, 0, '1', '', '#132-992']\n",
      "['H132674', '132-1126', '22:10:51', '+59:39:02', '2000', 0.0, 0.0, 0, '1', '', '10.41 Howell_TOI/TOI1501 #132-1126 no speckle obs']\n",
      "['HR 8469', '132-801', '22:11:31', '+59:24:52', '2000', 0.0, 0.0, 0, '1', '', '#132-801']\n",
      "['HR 8403', '132-843', '22:01:51', '+52:52:56', '2000', 0.0, 0.0, 0, '1', '', '#132-843']\n",
      "['H132678', '132-852 ', '22:19:56', '+53:39:45', '2000', 0.0, 0.0, 0, '1', '', '8.71 Howell_TOI/TOI1495 #132-852 no speckle obs']\n",
      "['H132681', '132-834 ', '22:26:49', '+52:13:40', '2000', 0.0, 0.0, 0, '1', '', '10.32 Howell_TOI/TOI1481 #132-834 no speckle obs']\n",
      "['H132683', '132-707 ', '22:35:11', '+55:01:52', '2000', 0.0, 0.0, 0, '1', '', '9.81 Howell_TOI/TOI1506 #132-707 no speckle obs']\n",
      "['H132684', '132-874 ', '22:36:29', '+52:06:57', '2000', 0.0, 0.0, 0, '1', '', '10.23 Howell_TOI/TOI1503 #132-874 no speckle obs']\n",
      "['HR 8633', '132-1276', '22:40:18', '+53:50:46', '2000', 0.0, 0.0, 0, '1', '', '#132-1276']\n",
      "['H132685', '132-1052', '22:36:35', '+58:16:34', '2000', 0.0, 0.0, 0, '1', '', '10.47 Howell_TOI/TOI1508 #132-1052 no speckle obs']\n",
      "['HR 8621', '132-1181', '22:38:38', '+56:47:45', '2000', 0.0, 0.0, 0, '1', '', '#132-1181']\n",
      "['H132691', '132-974 ', '22:52:56', '+59:51:03', '2000', 0.0, 0.0, 0, '1', '', '9.96 Howell_TOI/TOI1497 #132-974 no speckle obs']\n",
      "['HR 8822', '132-1121', '23:09:44', '+59:19:59', '2000', 0.0, 0.0, 0, '1', '', '#132-1121']\n",
      "['H132696', '132-1015', '23:05:23', '+46:54:11', '2000', 0.0, 0.0, 0, '1', '', '10.41 Howell_TOI/TOI1544 #132-1015 no speckle obs']\n",
      "['HR 8804', '132-1163', '23:07:39', '+46:23:14', '2000', 0.0, 0.0, 0, '1', '', '#132-1163']\n",
      "['HR 8825', '132-1262', '23:10:27', '+43:32:39', '2000', 0.0, 0.0, 0, '1', '', '#132-1262']\n",
      "['H132699', '132-794 ', '23:14:20', '+44:30:32', '2000', 0.0, 0.0, 0, '1', '', '10.47 Howell_TOI/TOI1537 #132-794 no speckle obs']\n",
      "['H101100', '101-467', '23:24:04', '+43:22:37', '2000', 0.0, 0.0, 0, '1', '', '11.32 CROSSFIELD/TIC174041208 #101-467']\n",
      "['HR 8913', '101-543', '23:27:07', '+42:54:43', '2000', 0.0, 0.0, 0, '1', '', '#101-543']\n",
      "['HR 8874', '132-643', '23:19:30', '+48:37:31', '2000', 0.0, 0.0, 0, '1', '', '#132-643']\n",
      "['H132430', '132-705 ', '23:28:43', '+47:20:58', '2000', 0.0, 0.0, 0, '1', '', '9.19 Howell_Lintott/TIC174302697 #132-705 pri1']\n",
      "['H101103', '101-480', '23:40:59', '+57:29:07', '2000', 0.0, 0.0, 0, '1', '', '10.95 CROSSFIELD/TIC345143460 #101-480']\n",
      "['HR 9010', '101-532', '23:47:02', '+57:27:05', '2000', 0.0, 0.0, 0, '1', '', '#101-532']\n",
      "['H101104', '101-406', '23:47:59', '+47:39:20', '2000', 0.0, 0.0, 0, '1', '', '10.35 CROSSFIELD/TIC177244357 #101-406']\n",
      "['HR 8967', '101-553', '23:39:08', '+50:28:18', '2000', 0.0, 0.0, 0, '1', '', '#101-553']\n"
     ]
    }
   ],
   "source": [
    "decoded_files = []\n",
    "for file, file_bytes in uploaded.value.items():\n",
    "    decoded_files.append(file_bytes['content'].decode())\n",
    "\n",
    "decoded_entries = []\n",
    "\n",
    "for decoded_file in decoded_files:\n",
    "    for line in decoded_file.split(\"\\n\"):\n",
    "        line = ' '.join(line.split())\n",
    "        if line.count(\",\") > 2:\n",
    "            line = line.split(\",\")\n",
    "        else:\n",
    "            line = line.split(\" \")\n",
    "        \n",
    "        # These chain of if-statements deal with empty values in order to convert into default ZERO values\n",
    "        if line[0] == \"\":\n",
    "            continue\n",
    "   \n",
    "        try:\n",
    "            if line[4] == '':\n",
    "                line[4] = 0.0\n",
    "        except:\n",
    "            line.append(0.0)\n",
    "\n",
    "        try:\n",
    "            if line[5] == '':\n",
    "                line[5] = 0.0\n",
    "        except:\n",
    "            line.append(0.0)\n",
    "        try:\n",
    "            if line[6] == '':\n",
    "                line[6] = 0.0\n",
    "        except:\n",
    "            line.append(0.0)\n",
    "            \n",
    "        try:\n",
    "            if line[7] == '':\n",
    "                line[7] = 0\n",
    "        except:\n",
    "            line.append(0)\n",
    "        try:\n",
    "            comment = line[9]\n",
    "        except:\n",
    "            line.append(\"\")\n",
    "        decoded_entries.append(line)\n",
    "        print(line)"
   ]
  },
  {
   "cell_type": "markdown",
   "metadata": {},
   "source": [
    "# Backlog Table and Observed Table Construction\n",
    "\n",
    "In this cell, we created two astropy tables: **backlog_table** and **observed_table**\n",
    "\n",
    "\"backlog_table\" will hold all the targets that we have yet to observed. \"observed_table\" will hold all the targets have have been observed.\n"
   ]
  },
  {
   "cell_type": "code",
   "execution_count": 8,
   "metadata": {},
   "outputs": [
    {
     "name": "stdout",
     "output_type": "stream",
     "text": [
      "['H132419', '132-1196', '9:38:13', '+23:32:49', '2000', 0.0, 0.0, 0, '1', '', '7.40 Howell_Kane/HD83342 #132-1196']\n",
      "['HR 3900', '132-804', '9:51:53', '+24:23:43', '2000', 0.0, 0.0, 0, '1', '', '#132-804']\n",
      "['HR 3815', '101-531', '9:35:40', '+35:48:37', '2000', 0.0, 0.0, 0, '1', '', '#101-531']\n",
      "['H101037', '101-475', '9:52:39', '+35:06:42', '2000', 0.0, 0.0, 0, '1', '', '7.80 CROSSFIELD/TIC4897275 #101-475']\n",
      "['HR 3928', '132-812', '9:57:41', '+41:03:20', '2000', 0.0, 0.0, 0, '1', '', '#132-812']\n",
      "['H132512', '132-1110', '10:00:28', '+39:27:28', '2000', 0.0, 0.0, 0, '1', '', '10.92 Howell_TOI/TOI1775 #132-1110 no speckle obs']\n",
      "['HR 3881', '132-1278', '9:48:35', '+46:01:16', '2000', 0.0, 0.0, 0, '1', '', '#132-1278']\n",
      "['H132513', '132-1201', '10:06:53', '+45:52:60', '2000', 0.0, 0.0, 0, '1', '', '8.68 Howell_TOI/TOI1792 #132-1201 no speckle obs']\n",
      "['H132514', '132-761 ', '10:07:14', '+46:06:54', '2000', 0.0, 0.0, 0, '1', '', '8.74 Howell_TOI/TOI1777 #132-761 no speckle obs']\n",
      "['HR 3954', '101-549', '10:04:36', '+53:53:30', '2000', 0.0, 0.0, 0, '1', '', '#101-549']\n",
      "['H101038', '101-489', '10:08:25', '+55:32:24', '2000', 0.0, 0.0, 0, '1', '', '10.42 CROSSFIELD/TIC137906197 #101-489']\n",
      "['H132516', '132-1239', '10:09:19', '+39:09:45', '2000', 0.0, 0.0, 0, '1', '', '10.38 Howell_TOI/TOI1787 #132-1239 no speckle obs']\n",
      "['HR 3993', '132-796', '10:11:13', '+37:24:07', '2000', 0.0, 0.0, 0, '1', '', '#132-796']\n",
      "['HR 4081', '101-561', '10:24:09', '+33:43:07', '2000', 0.0, 0.0, 0, '1', '', '#101-561']\n",
      "['H101039', '101-465', '10:27:21', '+34:23:28', '2000', 0.0, 0.0, 0, '1', '', '9.96 CROSSFIELD/TIC85293053 #101-465']\n",
      "['H132520', '132-1079', '10:51:06', '+25:38:28', '2000', 0.0, 0.0, 0, '1', '', '\"8.63 Howell_TOI/TOI1797 #132-1079 no speckle obs', ' also Howell_Livingston\"']\n"
     ]
    },
    {
     "ename": "ValueError",
     "evalue": "Mismatch between number of vals and columns",
     "output_type": "error",
     "traceback": [
      "\u001b[0;31m---------------------------------------------------------------------------\u001b[0m",
      "\u001b[0;31mValueError\u001b[0m                                Traceback (most recent call last)",
      "\u001b[0;32m<ipython-input-8-07f90c8b38c5>\u001b[0m in \u001b[0;36m<module>\u001b[0;34m\u001b[0m\n\u001b[1;32m     36\u001b[0m \u001b[0;32mfor\u001b[0m \u001b[0mi\u001b[0m \u001b[0;32min\u001b[0m \u001b[0mrange\u001b[0m\u001b[0;34m(\u001b[0m\u001b[0mlen\u001b[0m\u001b[0;34m(\u001b[0m\u001b[0mdecoded_entries\u001b[0m\u001b[0;34m)\u001b[0m\u001b[0;34m)\u001b[0m\u001b[0;34m:\u001b[0m\u001b[0;34m\u001b[0m\u001b[0;34m\u001b[0m\u001b[0m\n\u001b[1;32m     37\u001b[0m     \u001b[0mprint\u001b[0m\u001b[0;34m(\u001b[0m\u001b[0mdecoded_entries\u001b[0m\u001b[0;34m[\u001b[0m\u001b[0mi\u001b[0m\u001b[0;34m]\u001b[0m\u001b[0;34m)\u001b[0m\u001b[0;34m\u001b[0m\u001b[0;34m\u001b[0m\u001b[0m\n\u001b[0;32m---> 38\u001b[0;31m     \u001b[0mbacklog_table\u001b[0m\u001b[0;34m.\u001b[0m\u001b[0minsert_row\u001b[0m\u001b[0;34m(\u001b[0m\u001b[0mi\u001b[0m\u001b[0;34m,\u001b[0m \u001b[0mdecoded_entries\u001b[0m\u001b[0;34m[\u001b[0m\u001b[0mi\u001b[0m\u001b[0;34m]\u001b[0m\u001b[0;34m)\u001b[0m\u001b[0;34m\u001b[0m\u001b[0;34m\u001b[0m\u001b[0m\n\u001b[0m",
      "\u001b[0;32m~/opt/anaconda3/lib/python3.7/site-packages/astropy/table/table.py\u001b[0m in \u001b[0;36minsert_row\u001b[0;34m(self, index, vals, mask)\u001b[0m\n\u001b[1;32m   2491\u001b[0m \u001b[0;34m\u001b[0m\u001b[0m\n\u001b[1;32m   2492\u001b[0m             \u001b[0;32mif\u001b[0m \u001b[0mlen\u001b[0m\u001b[0;34m(\u001b[0m\u001b[0mself\u001b[0m\u001b[0;34m.\u001b[0m\u001b[0mcolumns\u001b[0m\u001b[0;34m)\u001b[0m \u001b[0;34m!=\u001b[0m \u001b[0mlen\u001b[0m\u001b[0;34m(\u001b[0m\u001b[0mvals\u001b[0m\u001b[0;34m)\u001b[0m\u001b[0;34m:\u001b[0m\u001b[0;34m\u001b[0m\u001b[0;34m\u001b[0m\u001b[0m\n\u001b[0;32m-> 2493\u001b[0;31m                 \u001b[0;32mraise\u001b[0m \u001b[0mValueError\u001b[0m\u001b[0;34m(\u001b[0m\u001b[0;34m'Mismatch between number of vals and columns'\u001b[0m\u001b[0;34m)\u001b[0m\u001b[0;34m\u001b[0m\u001b[0;34m\u001b[0m\u001b[0m\n\u001b[0m\u001b[1;32m   2494\u001b[0m \u001b[0;34m\u001b[0m\u001b[0m\n\u001b[1;32m   2495\u001b[0m             \u001b[0;32mif\u001b[0m \u001b[0mmask\u001b[0m \u001b[0;32mis\u001b[0m \u001b[0;32mnot\u001b[0m \u001b[0;32mNone\u001b[0m\u001b[0;34m:\u001b[0m\u001b[0;34m\u001b[0m\u001b[0;34m\u001b[0m\u001b[0m\n",
      "\u001b[0;31mValueError\u001b[0m: Mismatch between number of vals and columns"
     ]
    }
   ],
   "source": [
    "backlog_targets = []\n",
    "observed_targets = []\n",
    "\n",
    "# Construction of Backlog table\n",
    "# backlog_table = QTable(names=(\"star_id\", \"queue_id\", \"ra\",\"dec\", \"epoch\", \"proper(ra)\", \"proper(dec)\", \"mag\", \"priority\", \"pi\", \"comment\"))\n",
    "backlog_table = QTable(names=(\"star_id\", \"queue_id\", \"ra\", \"dec\", \"epoch\", \"proper(ra)\", \"proper(dec)\", \"mag\", \"priority\", \"pi\", \"comment\"))\n",
    "backlog_table[\"star_id\"].dtype = np.dtype(\"S10\")\n",
    "backlog_table[\"queue_id\"].dtype = np.dtype(\"S10\")\n",
    "backlog_table[\"ra\"].dtype = np.dtype(\"S10\")\n",
    "backlog_table[\"dec\"].dtype = np.dtype(\"S10\")\n",
    "backlog_table[\"epoch\"].dtype = np.dtype(\"float32\")\n",
    "backlog_table[\"proper(ra)\"].dtype = np.dtype(\"float32\")\n",
    "backlog_table[\"proper(dec)\"].dtype = np.dtype(\"float32\")\n",
    "backlog_table[\"mag\"].dtype = np.dtype(\"float32\")\n",
    "backlog_table[\"priority\"].dtype = np.dtype(\"int32\")\n",
    "backlog_table[\"pi\"].dtype = np.dtype(\"S10\")\n",
    "backlog_table[\"comment\"].dtype = np.dtype(\"S10\")\n",
    "\n",
    "# Construction of Observed table\n",
    "# observed_table = QTable(names=(\"star_id\", \"queue_id\", \"ra\", \"dec\", \"epoch\", \"proper(ra)\", \"proper(dec)\", \"mag\", \"priority\", \"pi\", \"comment\"))\n",
    "observed_table = QTable(names=(\"star_id\", \"queue_id\", \"ra\", \"dec\", \"epoch\", \"proper(ra)\", \"proper(dec)\", \"mag\", \"priority\", \"pi\", \"comment\", \"obs_comment\"))\n",
    "observed_table[\"star_id\"].dtype = np.dtype(\"S10\")\n",
    "observed_table[\"queue_id\"].dtype = np.dtype(\"S10\")\n",
    "observed_table[\"ra\"].dtype = np.dtype(\"S10\")\n",
    "observed_table[\"dec\"].dtype = np.dtype(\"S10\")\n",
    "observed_table[\"epoch\"].dtype = np.dtype(\"float32\")\n",
    "observed_table[\"proper(ra)\"].dtype = np.dtype(\"float32\")\n",
    "observed_table[\"proper(dec)\"].dtype = np.dtype(\"float32\")\n",
    "observed_table[\"mag\"].dtype = np.dtype(\"float32\")\n",
    "observed_table[\"priority\"].dtype = np.dtype(\"int32\")\n",
    "observed_table[\"pi\"].dtype = np.dtype(\"S10\")\n",
    "observed_table[\"comment\"].dtype = np.dtype(\"S10\")\n",
    "observed_table[\"obs_comment\"].dtype = np.dtype(\"S10\")\n",
    "\n",
    "# Insert data into the table\n",
    "for i in range(len(decoded_entries)):\n",
    "    print(decoded_entries[i])\n",
    "    backlog_table.insert_row(i, decoded_entries[i])"
   ]
  },
  {
   "cell_type": "markdown",
   "metadata": {},
   "source": [
    "## Step 1b: Resume Observation Run From Previous Night(s)\n",
    "\n",
    "TODO: Allow prompted files to be inputted rather than a hard coded absolute file path\n",
    "\n",
    "TODO: Make instructions for how to do file picker"
   ]
  },
  {
   "cell_type": "code",
   "execution_count": 4,
   "metadata": {},
   "outputs": [],
   "source": [
    "backlog_table = QTable.read('backlog_table.ecsv')\n",
    "observed_table = QTable.read('observed_table.ecsv')"
   ]
  },
  {
   "cell_type": "markdown",
   "metadata": {},
   "source": [
    "# Parameter Tuning"
   ]
  },
  {
   "cell_type": "code",
   "execution_count": 5,
   "metadata": {},
   "outputs": [],
   "source": [
    "# Try using a enterable box for these parameters\n",
    "global ra_lower_bound\n",
    "global ra_upper_bound\n",
    "global dec_lower_bound\n",
    "global dec_upper_bound\n",
    "\n",
    "# Edit these parameters\n",
    "ra_lower_bound = '00:00:00.0'\n",
    "ra_upper_bound = '24:00:00.0'\n",
    "dec_lower_bound = '-90:00:00.0'\n",
    "dec_upper_bound = '+90:00:00.0'\n",
    "allowed_priority_bands = []\n",
    "\n",
    "# Range filter for mag\n",
    "# Display comments on the table\n",
    "# Filter by bands as well\n",
    "\n",
    "# def filter_ra_by_range(table, column):\n",
    "#     if ra_lower_bound < table[column][] < ra_upper_bound:\n",
    "#         return True\n",
    "#     return False\n",
    "\n",
    "# Edit the parameters of group_by in order to sort by columns of your choice\n",
    "# Possible sort keys: idx, star_id, ra, dec, epoch, proper(ra), proper(dec), mag\n",
    "backlog_table = backlog_table.group_by(['ra', 'mag'])\n",
    "\n",
    "# backlog_table = backlog_table.groups.filter(filter_ra_by_range)\n",
    "# backlog_table = backlog_table.groups.filter(filter_dec_by_range)"
   ]
  },
  {
   "cell_type": "markdown",
   "metadata": {},
   "source": [
    "# Table Display\n",
    "\n",
    "- If a different range, filter, or sort by is needed, rerun \"Parameter Tuning\" code block\n",
    "    - Then, re-run \"Table Display\""
   ]
  },
  {
   "cell_type": "code",
   "execution_count": 65,
   "metadata": {},
   "outputs": [
    {
     "data": {
      "text/html": [
       "<i>QTable length=23</i>\n",
       "<table id=\"table4764813456-603034\" class=\"table-striped table-bordered table-condensed\">\n",
       "<thead><tr><th>idx</th><th>star_id</th><th>ra</th><th>dec</th><th>epoch</th><th>proper(ra)</th><th>proper(dec)</th><th>mag</th><th>priority</th><th>pi</th><th>comment</th></tr></thead>\n",
       "<tr><td>0</td><td>HIP33451</td><td>06:57:17.6</td><td>-35:30:26</td><td>2000.0</td><td>0.0</td><td>0.0</td><td>6.22</td><td>3</td><td>joncwong</td><td>comment</td></tr>\n",
       "<tr><td>1</td><td>HR 2518</td><td>06:47:21.4</td><td>-37:55:47</td><td>2000.0</td><td>-7.0</td><td>-15.0</td><td>5.26</td><td>1</td><td>howell</td><td></td></tr>\n",
       "<tr><td>2</td><td>HIP38382</td><td>07:51:46.3</td><td>-13:53:53</td><td>2000.0</td><td>0.0</td><td>0.0</td><td>5.16</td><td>1</td><td>nic</td><td>testtestte</td></tr>\n",
       "<tr><td>3</td><td>HR 3073</td><td>07:52:18.9</td><td>-14:50:47</td><td>2000.0</td><td>-11.0</td><td>-2.0</td><td>5.69</td><td>1</td><td>nic</td><td></td></tr>\n",
       "<tr><td>4</td><td>HIP41426</td><td>08:26:57.7</td><td>-52:42:18</td><td>2000.0</td><td>0.0</td><td>0.0</td><td>6.49</td><td>2</td><td>howell</td><td>another te</td></tr>\n",
       "<tr><td>5</td><td>HR 3350</td><td>08:27:36.5</td><td>-53:05:19</td><td>2000.0</td><td>-68.0</td><td>13.0</td><td>5.09</td><td>1</td><td></td><td></td></tr>\n",
       "<tr><td>6</td><td>HIP78727</td><td>16:04:22.2</td><td>-11:22:23</td><td>2000.0</td><td>0.0</td><td>0.0</td><td>4.17</td><td>1</td><td></td><td>test comme</td></tr>\n",
       "<tr><td>7</td><td>HR 6048</td><td>16:13:50.9</td><td>-11:50:15</td><td>2000.0</td><td>-10.0</td><td>-6.0</td><td>5.22</td><td>5</td><td></td><td>test comme</td></tr>\n",
       "<tr><td>8</td><td>H101769</td><td>20:37:32.9</td><td>+14:35:43</td><td>2000.0</td><td>0.0</td><td>0.0</td><td>4.03</td><td>2</td><td></td><td></td></tr>\n",
       "<tr><td>9</td><td>HR 7918</td><td>20:41:16.2</td><td>+14:34:59</td><td>2000.0</td><td>-6.0</td><td>2.0</td><td>5.99</td><td>0</td><td></td><td></td></tr>\n",
       "<tr><td>10</td><td>H104858</td><td>21:14:28.8</td><td>+10:00:28</td><td>2000.0</td><td>0.0</td><td>0.0</td><td>5.07</td><td>3</td><td></td><td></td></tr>\n",
       "<tr><td>11</td><td>HR 8149</td><td>21:18:52.0</td><td>+11:12:12</td><td>2000.0</td><td>26.0</td><td>15.0</td><td>5.96</td><td>1</td><td></td><td></td></tr>\n",
       "<tr><td>12</td><td>H111974</td><td>22:40:52.5</td><td>+14:32:56</td><td>2000.0</td><td>0.0</td><td>0.0</td><td>6.14</td><td>0</td><td>jon</td><td></td></tr>\n",
       "<tr><td>13</td><td>HR 8642</td><td>22:41:57.4</td><td>+14:30:59</td><td>2000.0</td><td>92.0</td><td>-21.0</td><td>5.9</td><td>0</td><td></td><td>COMMENT</td></tr>\n",
       "<tr><td>14</td><td>HIP38382</td><td>07:51:46.3</td><td>-13:53:53</td><td>2000.0</td><td>0.0</td><td>0.0</td><td>5.16</td><td>1</td><td>nic</td><td>testtestte</td></tr>\n",
       "<tr><td>15</td><td>HIP41426</td><td>08:26:57.7</td><td>-52:42:18</td><td>2000.0</td><td>0.0</td><td>0.0</td><td>6.49</td><td>2</td><td>howell</td><td>another te</td></tr>\n",
       "<tr><td>16</td><td>HR 3350</td><td>08:27:36.5</td><td>-53:05:19</td><td>2000.0</td><td>-68.0</td><td>13.0</td><td>5.09</td><td>1</td><td></td><td></td></tr>\n",
       "<tr><td>17</td><td>HR 3073</td><td>07:52:18.9</td><td>-14:50:47</td><td>2000.0</td><td>-11.0</td><td>-2.0</td><td>5.69</td><td>1</td><td>nic</td><td></td></tr>\n",
       "<tr><td>18</td><td>HR 6048</td><td>16:13:50.9</td><td>-11:50:15</td><td>2000.0</td><td>-10.0</td><td>-6.0</td><td>5.22</td><td>5</td><td></td><td>test comme</td></tr>\n",
       "<tr><td>19</td><td>HR 3073</td><td>07:52:18.9</td><td>-14:50:47</td><td>2000.0</td><td>-11.0</td><td>-2.0</td><td>5.69</td><td>1</td><td>nic</td><td></td></tr>\n",
       "<tr><td>20</td><td>HR 6048</td><td>16:13:50.9</td><td>-11:50:15</td><td>2000.0</td><td>-10.0</td><td>-6.0</td><td>5.22</td><td>5</td><td></td><td>test comme</td></tr>\n",
       "<tr><td>21</td><td>HIP78727</td><td>16:04:22.2</td><td>-11:22:23</td><td>2000.0</td><td>0.0</td><td>0.0</td><td>4.17</td><td>1</td><td></td><td>test comme</td></tr>\n",
       "<tr><td>22</td><td>HR 2518</td><td>06:47:21.4</td><td>-37:55:47</td><td>2000.0</td><td>-7.0</td><td>-15.0</td><td>5.26</td><td>1</td><td>howell</td><td></td></tr>\n",
       "</table><style>table.dataTable {clear: both; width: auto !important; margin: 0 !important;}\n",
       ".dataTables_info, .dataTables_length, .dataTables_filter, .dataTables_paginate{\n",
       "display: inline-block; margin-right: 1em; }\n",
       ".paginate_button { margin-right: 5px; }\n",
       "</style>\n",
       "<script>\n",
       "\n",
       "var astropy_sort_num = function(a, b) {\n",
       "    var a_num = parseFloat(a);\n",
       "    var b_num = parseFloat(b);\n",
       "\n",
       "    if (isNaN(a_num) && isNaN(b_num))\n",
       "        return ((a < b) ? -1 : ((a > b) ? 1 : 0));\n",
       "    else if (!isNaN(a_num) && !isNaN(b_num))\n",
       "        return ((a_num < b_num) ? -1 : ((a_num > b_num) ? 1 : 0));\n",
       "    else\n",
       "        return isNaN(a_num) ? -1 : 1;\n",
       "}\n",
       "\n",
       "require.config({paths: {\n",
       "    datatables: 'https://cdn.datatables.net/1.10.12/js/jquery.dataTables.min'\n",
       "}});\n",
       "require([\"datatables\"], function(){\n",
       "    console.log(\"$('#table4764813456-603034').dataTable()\");\n",
       "    \n",
       "jQuery.extend( jQuery.fn.dataTableExt.oSort, {\n",
       "    \"optionalnum-asc\": astropy_sort_num,\n",
       "    \"optionalnum-desc\": function (a,b) { return -astropy_sort_num(a, b); }\n",
       "});\n",
       "\n",
       "    $('#table4764813456-603034').dataTable({\n",
       "        order: [],\n",
       "        pageLength: 25,\n",
       "        lengthMenu: [[10, 25, 50, 100, 500, 1000, -1], [10, 25, 50, 100, 500, 1000, 'All']],\n",
       "        pagingType: \"full_numbers\",\n",
       "        columnDefs: [{targets: [0, 4, 5, 6, 7, 8], type: \"optionalnum\"}]\n",
       "    });\n",
       "});\n",
       "</script>\n"
      ],
      "text/plain": [
       "<IPython.core.display.HTML object>"
      ]
     },
     "execution_count": 65,
     "metadata": {},
     "output_type": "execute_result"
    }
   ],
   "source": [
    "backlog_table.show_in_notebook(display_length=25)"
   ]
  },
  {
   "cell_type": "markdown",
   "metadata": {},
   "source": [
    "# Mark as Observed\n",
    "\n",
    "Mark stars as observed in the below textbox. Remove the example placeholder shown with your own list of 'idx's and comments to mark as observed.\n",
    "\n"
   ]
  },
  {
   "cell_type": "code",
   "execution_count": 8,
   "metadata": {},
   "outputs": [
    {
     "data": {
      "application/vnd.jupyter.widget-view+json": {
       "model_id": "93deafcb507b45a795dc351881f7f57d",
       "version_major": 2,
       "version_minor": 0
      },
      "text/plain": [
       "Textarea(value='Example:\\n1\\n2\\n10\\n15\\n', description='Observed: ', placeholder='Type something')"
      ]
     },
     "metadata": {},
     "output_type": "display_data"
    }
   ],
   "source": [
    "observed_textbox"
   ]
  },
  {
   "cell_type": "code",
   "execution_count": 9,
   "metadata": {},
   "outputs": [
    {
     "name": "stdout",
     "output_type": "stream",
     "text": [
      "test\n"
     ]
    }
   ],
   "source": [
    "print(\"test\")"
   ]
  },
  {
   "cell_type": "markdown",
   "metadata": {},
   "source": [
    "## Move targets from textbox to saved observed table\n",
    "\n",
    "Run the below cell in order to save all of the targets by idx, into a temporary table which will be exported at the end of the night.\n",
    "\n",
    "**Note:**\n",
    "\n",
    "- If an entry is not a number or a valid ID of the table, it will be automatically thrown away.**\n",
    "\n",
    "- Idx numbers are not permanent nor important to a particular row, they are simply used as temporary IDs to mark targets as observed"
   ]
  },
  {
   "cell_type": "code",
   "execution_count": 43,
   "metadata": {},
   "outputs": [
    {
     "name": "stdout",
     "output_type": "stream",
     "text": [
      "HR 2518\n",
      "['HR 2518', '06:47:21.4', '-37:55:47', 2000.0, -7.0, -15.0, 5.26, 1, 'howell', '', 'example comment for ']\n",
      "HIP38382\n",
      "['HIP38382', '07:51:46.3', '-13:53:53', 2000.0, 0.0, 0.0, 5.16, 1, 'nic', 'testtestte', 'hello']\n",
      "HR 3073\n",
      "['HR 3073', '07:52:18.9', '-14:50:47', 2000.0, -11.0, -2.0, 5.69, 1, 'nic', '', 'this is a comment']\n",
      "HIP41426\n",
      "['HIP41426', '08:26:57.7', '-52:42:18', 2000.0, 0.0, 0.0, 6.49, 2, 'howell', 'another te', '']\n",
      "HR 3350\n",
      "['HR 3350', '08:27:36.5', '-53:05:19', 2000.0, -68.0, 13.0, 5.09, 1, '', '', '']\n",
      "HIP78727\n",
      "['HIP78727', '16:04:22.2', '-11:22:23', 2000.0, 0.0, 0.0, 4.17, 1, '', 'test comme', '']\n",
      "HR 6048\n",
      "['HR 6048', '16:13:50.9', '-11:50:15', 2000.0, -10.0, -6.0, 5.22, 5, '', 'test comme', '']\n"
     ]
    }
   ],
   "source": [
    "textbox_string = observed_textbox.value\n",
    "textbox_string = textbox_string.rstrip()\n",
    "textbox_list = textbox_string.split('\\n')\n",
    "id_upper_bound = len(backlog_table)\n",
    "id_list = []\n",
    "id_comment_list = []\n",
    "for line in textbox_list:\n",
    "    \n",
    "    line = line.split(',')\n",
    "    line[0] = int(line[0])\n",
    "    if line[0] > id_upper_bound:\n",
    "        raise Exception(\"Please ensure that your ID is a digit within the range of valid IDs\")\n",
    "        \n",
    "    # Add a empty string if there is no comment\n",
    "    try:\n",
    "        str(line[1])\n",
    "    except:\n",
    "        line.append(\"\")\n",
    "    id_comment_list.append(line)\n",
    "    id_list.append(line[0])\n",
    "\n",
    "for observed in id_comment_list:\n",
    "    print(backlog_table[observed[0]][0])\n",
    "    temp_row = [backlog_table[observed[0]][0], backlog_table[observed[0]][1], backlog_table[observed[0]][2],\n",
    "                backlog_table[observed[0]][3], backlog_table[observed[0]][4], backlog_table[observed[0]][5],\n",
    "                backlog_table[observed[0]][6], backlog_table[observed[0]][7], backlog_table[observed[0]][8],\n",
    "                backlog_table[observed[0]][9], observed[1]]\n",
    "    print(temp_row)\n",
    "    observed_table.add_row(temp_row)\n",
    "\n",
    "backlog_table.remove_rows(id_list)"
   ]
  },
  {
   "cell_type": "code",
   "execution_count": 58,
   "metadata": {},
   "outputs": [
    {
     "data": {
      "text/html": [
       "<i>QTable length=2</i>\n",
       "<table id=\"table4755134992-152749\" class=\"table-striped table-bordered table-condensed\">\n",
       "<thead><tr><th>idx</th><th>star_id</th><th>ra</th><th>dec</th><th>epoch</th><th>proper(ra)</th><th>proper(dec)</th><th>mag</th><th>priority</th><th>pi</th><th>comment</th><th>obs_comment</th></tr></thead>\n",
       "<tr><td>0</td><td>HR 2518</td><td>06:47:21.4</td><td>-37:55:47</td><td>2000.0</td><td>-7.0</td><td>-15.0</td><td>5.26</td><td>1</td><td>howell</td><td></td><td>example co</td></tr>\n",
       "<tr><td>1</td><td>HIP78727</td><td>16:04:22.2</td><td>-11:22:23</td><td>2000.0</td><td>0.0</td><td>0.0</td><td>4.17</td><td>1</td><td></td><td>test comme</td><td></td></tr>\n",
       "</table><style>table.dataTable {clear: both; width: auto !important; margin: 0 !important;}\n",
       ".dataTables_info, .dataTables_length, .dataTables_filter, .dataTables_paginate{\n",
       "display: inline-block; margin-right: 1em; }\n",
       ".paginate_button { margin-right: 5px; }\n",
       "</style>\n",
       "<script>\n",
       "\n",
       "var astropy_sort_num = function(a, b) {\n",
       "    var a_num = parseFloat(a);\n",
       "    var b_num = parseFloat(b);\n",
       "\n",
       "    if (isNaN(a_num) && isNaN(b_num))\n",
       "        return ((a < b) ? -1 : ((a > b) ? 1 : 0));\n",
       "    else if (!isNaN(a_num) && !isNaN(b_num))\n",
       "        return ((a_num < b_num) ? -1 : ((a_num > b_num) ? 1 : 0));\n",
       "    else\n",
       "        return isNaN(a_num) ? -1 : 1;\n",
       "}\n",
       "\n",
       "require.config({paths: {\n",
       "    datatables: 'https://cdn.datatables.net/1.10.12/js/jquery.dataTables.min'\n",
       "}});\n",
       "require([\"datatables\"], function(){\n",
       "    console.log(\"$('#table4755134992-152749').dataTable()\");\n",
       "    \n",
       "jQuery.extend( jQuery.fn.dataTableExt.oSort, {\n",
       "    \"optionalnum-asc\": astropy_sort_num,\n",
       "    \"optionalnum-desc\": function (a,b) { return -astropy_sort_num(a, b); }\n",
       "});\n",
       "\n",
       "    $('#table4755134992-152749').dataTable({\n",
       "        order: [],\n",
       "        pageLength: 25,\n",
       "        lengthMenu: [[10, 25, 50, 100, 500, 1000, -1], [10, 25, 50, 100, 500, 1000, 'All']],\n",
       "        pagingType: \"full_numbers\",\n",
       "        columnDefs: [{targets: [0, 4, 5, 6, 7, 8], type: \"optionalnum\"}]\n",
       "    });\n",
       "});\n",
       "</script>\n"
      ],
      "text/plain": [
       "<IPython.core.display.HTML object>"
      ]
     },
     "execution_count": 58,
     "metadata": {},
     "output_type": "execute_result"
    }
   ],
   "source": [
    "observed_table.show_in_notebook(display_length=25)"
   ]
  },
  {
   "cell_type": "markdown",
   "metadata": {},
   "source": [
    "# Undo/Redo\n",
    "\n",
    "Similarily to the \"mark as observed\" textbox, enter the IDs of the observed_table rows that you would like to removed from observed back into the backlog. Do not include a comma or comments, just one ID per line."
   ]
  },
  {
   "cell_type": "code",
   "execution_count": 48,
   "metadata": {},
   "outputs": [
    {
     "data": {
      "application/vnd.jupyter.widget-view+json": {
       "model_id": "2b24e96e660544849c9bc85f3fa88928",
       "version_major": 2,
       "version_minor": 0
      },
      "text/plain": [
       "Textarea(value='Example:\\n1\\n3\\n4\\n7\\n', description='Observed: ', placeholder='Type something')"
      ]
     },
     "metadata": {},
     "output_type": "display_data"
    }
   ],
   "source": [
    "undo_textbox"
   ]
  },
  {
   "cell_type": "markdown",
   "metadata": {},
   "source": [
    "## Run this cell to move all IDs in textbox back to backlog"
   ]
  },
  {
   "cell_type": "code",
   "execution_count": 63,
   "metadata": {},
   "outputs": [],
   "source": [
    "undo_textbox_str = undo_textbox.value.strip()\n",
    "undo_id_list = undo_textbox_str.split('\\n')\n",
    "id_upper_bound = len(observed_table)\n",
    "for idx in undo_id_list:\n",
    "    idx = int(idx)\n",
    "    if idx > id_upper_bound:\n",
    "        raise Exception(\"Please ensure that your ID is a digit within the range of valid IDs\")\n",
    "\n",
    "    temp_row = [observed_table[idx][0], observed_table[idx][1], observed_table[idx][2],\n",
    "                observed_table[idx][3], observed_table[idx][4], observed_table[idx][5],\n",
    "                observed_table[idx][6], observed_table[idx][7], observed_table[idx][8],\n",
    "                observed_table[idx][9]]\n",
    "    backlog_table.add_row(temp_row)\n",
    "\n",
    "observed_table.remove_rows(list(map(int, undo_id_list)))"
   ]
  },
  {
   "cell_type": "code",
   "execution_count": 69,
   "metadata": {},
   "outputs": [
    {
     "data": {
      "text/html": [
       "<i>QTable length=0</i>\n",
       "<table id=\"table4755134992-190091\" class=\"table-striped table-bordered table-condensed\">\n",
       "<thead><tr><th>idx</th><th>star_id</th><th>ra</th><th>dec</th><th>epoch</th><th>proper(ra)</th><th>proper(dec)</th><th>mag</th><th>priority</th><th>pi</th><th>comment</th><th>obs_comment</th></tr></thead>\n",
       "</table><style>table.dataTable {clear: both; width: auto !important; margin: 0 !important;}\n",
       ".dataTables_info, .dataTables_length, .dataTables_filter, .dataTables_paginate{\n",
       "display: inline-block; margin-right: 1em; }\n",
       ".paginate_button { margin-right: 5px; }\n",
       "</style>\n",
       "<script>\n",
       "\n",
       "var astropy_sort_num = function(a, b) {\n",
       "    var a_num = parseFloat(a);\n",
       "    var b_num = parseFloat(b);\n",
       "\n",
       "    if (isNaN(a_num) && isNaN(b_num))\n",
       "        return ((a < b) ? -1 : ((a > b) ? 1 : 0));\n",
       "    else if (!isNaN(a_num) && !isNaN(b_num))\n",
       "        return ((a_num < b_num) ? -1 : ((a_num > b_num) ? 1 : 0));\n",
       "    else\n",
       "        return isNaN(a_num) ? -1 : 1;\n",
       "}\n",
       "\n",
       "require.config({paths: {\n",
       "    datatables: 'https://cdn.datatables.net/1.10.12/js/jquery.dataTables.min'\n",
       "}});\n",
       "require([\"datatables\"], function(){\n",
       "    console.log(\"$('#table4755134992-190091').dataTable()\");\n",
       "    \n",
       "jQuery.extend( jQuery.fn.dataTableExt.oSort, {\n",
       "    \"optionalnum-asc\": astropy_sort_num,\n",
       "    \"optionalnum-desc\": function (a,b) { return -astropy_sort_num(a, b); }\n",
       "});\n",
       "\n",
       "    $('#table4755134992-190091').dataTable({\n",
       "        order: [],\n",
       "        pageLength: 25,\n",
       "        lengthMenu: [[10, 25, 50, 100, 500, 1000, -1], [10, 25, 50, 100, 500, 1000, 'All']],\n",
       "        pagingType: \"full_numbers\",\n",
       "        columnDefs: [{targets: [0, 4, 5, 6, 7, 8], type: \"optionalnum\"}]\n",
       "    });\n",
       "});\n",
       "</script>\n"
      ],
      "text/plain": [
       "<IPython.core.display.HTML object>"
      ]
     },
     "execution_count": 69,
     "metadata": {},
     "output_type": "execute_result"
    }
   ],
   "source": [
    "# Check table state\n",
    "observed_table.show_in_notebook(display_length=25)"
   ]
  },
  {
   "cell_type": "markdown",
   "metadata": {},
   "source": [
    "# Save table state(s) for the night\n",
    "\n",
    "In order to save the state(s) of the table, we will be serializing both the backlog and observed table. When loading data for the next night, only these saved files will be needed, not the initial target files. Will overr\n",
    "\n"
   ]
  },
  {
   "cell_type": "code",
   "execution_count": 68,
   "metadata": {
    "scrolled": false
   },
   "outputs": [],
   "source": [
    "import datetime\n",
    "\n",
    "# TODO: remove whitespace from UTC time in file naming\n",
    "backlog_table.write('backlog_table_' + str(datetime.datetime.utcnow()) + '.ecsv', overwrite=False, serialize_method='data_mask')\n",
    "observed_table.write('observed_table' + str(datetime.datetime.utcnow()) + '.ecsv', overwrite=False, serialize_method='data_mask')"
   ]
  },
  {
   "cell_type": "code",
   "execution_count": null,
   "metadata": {},
   "outputs": [],
   "source": []
  }
 ],
 "metadata": {
  "kernelspec": {
   "display_name": "Python 3",
   "language": "python",
   "name": "python3"
  },
  "language_info": {
   "codemirror_mode": {
    "name": "ipython",
    "version": 3
   },
   "file_extension": ".py",
   "mimetype": "text/x-python",
   "name": "python",
   "nbconvert_exporter": "python",
   "pygments_lexer": "ipython3",
   "version": "3.7.4"
  }
 },
 "nbformat": 4,
 "nbformat_minor": 2
}
