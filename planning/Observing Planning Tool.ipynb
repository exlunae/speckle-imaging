{
 "cells": [
  {
   "cell_type": "markdown",
   "metadata": {},
   "source": [
    "# Overview\n",
    "\n",
    "This interactive notebook acts as an productive, ituitive way for the Speckle Imaging Group to plan observing runs. In order to ensure that this tool functions properly, there are a list of **assumptions**:\n",
    "\n",
    "- Input files will be comma separated (create a fork for it to be tab separated)\n",
    "- For complex filtering and searching of targets, you must provide your own custom filter in the cells marked below\n",
    "- For \"ZERO\" values or \"EMPTY\" values, please use empty commas \",,\""
   ]
  },
  {
   "cell_type": "code",
   "execution_count": null,
   "metadata": {},
   "outputs": [],
   "source": [
    "# !pip3 install --upgrade pip\n",
    "# !pip3 install pandas numpy\n",
    "# !pip3 install astropy astroplan -U\n",
    "# !pip3 install ipywidgets\n",
    "\n",
    "from astropy.coordinates import SkyCoord\n",
    "import astropy\n",
    "# import astroplan\n",
    "import ipywidgets\n",
    "from IPython.display import display, clear_output\n",
    "from astropy.table import QTable\n",
    "import astropy.units as u\n",
    "import numpy as np\n",
    "import pandas as pd\n",
    "\n",
    "uploaded = ipywidgets.FileUpload(\n",
    "    accept='',\n",
    "    multiple=True\n",
    ")\n",
    "uploaded\n",
    "\n",
    "import ipywidgets as widgets\n",
    "observed_textbox = widgets.Textarea(\n",
    "    value='''Example:\n",
    "1\n",
    "2\n",
    "10\n",
    "15\n",
    "''',\n",
    "    placeholder='Type something',\n",
    "    description='Observed: ',\n",
    "    disabled=False\n",
    ")\n",
    "\n",
    "uploaded"
   ]
  },
  {
   "cell_type": "markdown",
   "metadata": {},
   "source": [
    "# Step 1: Importation of olist/target files "
   ]
  },
  {
   "cell_type": "markdown",
   "metadata": {},
   "source": [
    "## Step 1a: ASCII File Importation \n",
    "\n",
    "**Run this cell if it's the first night of the observing run, otherwise, skip to Step 1b**"
   ]
  },
  {
   "cell_type": "code",
   "execution_count": null,
   "metadata": {},
   "outputs": [],
   "source": [
    "# for file, file_values in uploaded.value.items():\n",
    "#     print(file)\n",
    "#     print(file_values['content'])\n",
    "\n",
    "decoded_files = []\n",
    "for file, file_bytes in uploaded.value.items():\n",
    "    decoded_files.append(file_bytes['content'].decode())\n",
    "\n",
    "decoded_entries = []\n",
    "\n",
    "for decoded_file in decoded_files:\n",
    "    for line in decoded_file.split(\"\\n\"):\n",
    "        line = ' '.join(line.split())\n",
    "#         line = line.split(\"#\")\n",
    "#         try:\n",
    "#             line = line[0] + \",\" + line[1]\n",
    "#         except:\n",
    "#             line = line[0]\n",
    "        line = line.split(\"#\")[0] # TODO: For now, just remove everything after the # sign and include again later when needed\n",
    "        if line.count(\",\") > 2:\n",
    "            line = line.split(\",\")\n",
    "        else:\n",
    "            line = line.split(\" \")\n",
    "        \n",
    "        if line[0] == \"\":\n",
    "            continue\n",
    "            \n",
    "        try:\n",
    "            if line[4] == '':\n",
    "                line[4] = 0.0\n",
    "        except:\n",
    "            line.append(0.0)\n",
    "\n",
    "        try:\n",
    "            if line[5] == '':\n",
    "                line[5] = 0.0\n",
    "        except:\n",
    "            line.append(0.0)\n",
    "#         try:\n",
    "#             if line[7] == '':\n",
    "#                 line[7] = 0.0\n",
    "#         except:\n",
    "#             line.append('')\n",
    "        decoded_entries.append(line)\n",
    "\n",
    "print(decoded_entries)"
   ]
  },
  {
   "cell_type": "markdown",
   "metadata": {},
   "source": [
    "# Backlog Table and Observed Table Construction\n",
    "\n",
    "In this cell, we created two astropy tables: **backlog_table** and **observed_table**\n",
    "\n",
    "\"backlog_table\" will hold all the targets that we have yet to observed. \"observed_table\" will hold all the targets have have been observed.\n"
   ]
  },
  {
   "cell_type": "code",
   "execution_count": null,
   "metadata": {},
   "outputs": [],
   "source": [
    "backlog_targets = []\n",
    "observed_targets = []\n",
    "\n",
    "# Construction of Backlog table\n",
    "# backlog_table = QTable(names=(\"star_id\", \"queue_id\", \"ra\",\"dec\", \"epoch\", \"proper(ra)\", \"proper(dec)\", \"mag\", \"priority\", \"pi\", \"comment\"))\n",
    "backlog_table = QTable(names=(\"star_id\", \"ra\", \"dec\", \"epoch\", \"proper(ra)\", \"proper(dec)\", \"mag\"))\n",
    "backlog_table[\"star_id\"].dtype = np.dtype(\"S10\")\n",
    "# backlog_table[\"queue_id\"].dtype = np.dtype(\"S10\")\n",
    "backlog_table[\"ra\"].dtype = np.dtype(\"S10\")\n",
    "backlog_table[\"dec\"].dtype = np.dtype(\"S10\")\n",
    "backlog_table[\"epoch\"].dtype = np.dtype(\"float32\")\n",
    "backlog_table[\"proper(ra)\"].dtype = np.dtype(\"float32\")\n",
    "backlog_table[\"proper(dec)\"].dtype = np.dtype(\"float32\")\n",
    "backlog_table[\"mag\"].dtype = np.dtype(\"float32\")\n",
    "# backlog_table[\"priority\"].dtype = np.dtype(\"float32\")\n",
    "# backlog_table[\"pi\"].dtype = np.dtype(\"S10\")\n",
    "# backlog_table[\"comment\"].dtype = np.dtype(\"S10\")\n",
    "\n",
    "# Construction of Observed table\n",
    "# observed_table = QTable(names=(\"star_id\", \"queue_id\", \"ra\", \"dec\", \"epoch\", \"proper(ra)\", \"proper(dec)\", \"mag\", \"priority\", \"pi\", \"comment\"))\n",
    "observed_table = QTable(names=(\"star_id\", \"ra\", \"dec\", \"epoch\", \"proper(ra)\", \"proper(dec)\", \"mag\"))\n",
    "observed_table[\"star_id\"].dtype = np.dtype(\"S10\")\n",
    "# observed_table[\"queue_id\"].dtype = np.dtype(\"S10\")\n",
    "observed_table[\"ra\"].dtype = np.dtype(\"S10\")\n",
    "observed_table[\"dec\"].dtype = np.dtype(\"S10\")\n",
    "observed_table[\"epoch\"].dtype = np.dtype(\"float32\")\n",
    "observed_table[\"proper(ra)\"].dtype = np.dtype(\"float32\")\n",
    "observed_table[\"proper(dec)\"].dtype = np.dtype(\"float32\")\n",
    "observed_table[\"mag\"].dtype = np.dtype(\"float32\")\n",
    "# observed_table[\"priority\"].dtype = np.dtype(\"float32\")\n",
    "# observed_table[\"pi\"].dtype = np.dtype(\"S10\")\n",
    "# observed_table[\"comment\"].dtype = np.dtype(\"S10\")\n",
    "\n",
    "# Insert data into the table\n",
    "for i in range(len(decoded_entries)):\n",
    "    backlog_table.insert_row(i, decoded_entries[i])\n",
    "\n",
    "# def filter_ra_by_range(table, key_colnames):\n",
    "#     print(key_colnames)\n",
    "#     global x\n",
    "#     print(x)\n",
    "#     pass\n",
    "\n",
    "# def filter_dec_by_range(table, key_colnames):\n",
    "#     global y\n",
    "#     print(y)\n",
    "#     pass"
   ]
  },
  {
   "cell_type": "markdown",
   "metadata": {},
   "source": [
    "## Step 1b: Resume Observation Run From Previous Night(s)\n",
    "\n",
    "TODO: Allow prompted files to be inputted rather than a hard coded absolute file path"
   ]
  },
  {
   "cell_type": "code",
   "execution_count": null,
   "metadata": {},
   "outputs": [],
   "source": [
    "backlog_table = QTable.read('.ecsv')\n",
    "observed_table = QTable.read('.ecsv')"
   ]
  },
  {
   "cell_type": "code",
   "execution_count": null,
   "metadata": {},
   "outputs": [],
   "source": [
    "uploaded = ipywidgets.FileUpload(\n",
    "    accept='',\n",
    "    multiple=True\n",
    ")\n",
    "uploaded"
   ]
  },
  {
   "cell_type": "markdown",
   "metadata": {},
   "source": [
    "# Parameter Tuning"
   ]
  },
  {
   "cell_type": "code",
   "execution_count": null,
   "metadata": {},
   "outputs": [],
   "source": [
    "# Try using a enterable box for these parameters\n",
    "global ra_lower_bound\n",
    "global ra_upper_bound\n",
    "global dec_lower_bound\n",
    "global dec_upper_bound\n",
    "\n",
    "# Edit these parameters\n",
    "ra_lower_bound = '00:00:00.0'\n",
    "ra_upper_bound = '24:00:00.0'\n",
    "dec_lower_bound = '-90:00:00.0'\n",
    "dec_upper_bound = '+90:00:00.0'\n",
    "allowed_priority_bands = []\n",
    "\n",
    "# Range filter for mag\n",
    "# Display comments on the table\n",
    "# Filter by bands as well\n",
    "\n",
    "# def filter_ra_by_range(table, column):\n",
    "#     if ra_lower_bound < table[column][] < ra_upper_bound:\n",
    "#         return True\n",
    "#     return False\n",
    "\n",
    "# Edit the parameters of group_by in order to sort by columns of your choice\n",
    "# Possible sort keys: idx, star_id, ra, dec, epoch, proper(ra), proper(dec), mag\n",
    "backlog_table = backlog_table.group_by(['ra', 'mag'])\n",
    "\n",
    "# backlog_table = backlog_table.groups.filter(filter_ra_by_range)\n",
    "# backlog_table = backlog_table.groups.filter(filter_dec_by_range)"
   ]
  },
  {
   "cell_type": "markdown",
   "metadata": {},
   "source": [
    "# Table Display\n",
    "\n",
    "- If a different range, filter, or sort by is needed, rerun \"Parameter Tuning\" code block\n",
    "    - Then, re-run \"Table Display\""
   ]
  },
  {
   "cell_type": "code",
   "execution_count": null,
   "metadata": {},
   "outputs": [],
   "source": [
    "backlog_table.show_in_notebook(display_length=25)"
   ]
  },
  {
   "cell_type": "markdown",
   "metadata": {},
   "source": [
    "# Mark as Observed\n",
    "\n",
    "Mark stars as observed in the below textbox. Remove the example placeholder shown with your own list of 'idx's to mark as observed.\n",
    "\n",
    "After "
   ]
  },
  {
   "cell_type": "code",
   "execution_count": null,
   "metadata": {},
   "outputs": [],
   "source": [
    "observed_textbox"
   ]
  },
  {
   "cell_type": "markdown",
   "metadata": {},
   "source": [
    "## Move targets from textbox to saved observed table\n",
    "\n",
    "Run the below cell in order to save all of the targets by idx, into a temporary table which will be exported at the end of the night.\n",
    "\n",
    "**Note:**\n",
    "\n",
    "- If an entry is not a number or a valid ID of the table, it will be automatically thrown away.**\n",
    "\n",
    "- Idx numbers are not permanent nor important to a particular row, they are simply used as temporary IDs to mark targets as observed"
   ]
  },
  {
   "cell_type": "code",
   "execution_count": null,
   "metadata": {},
   "outputs": [],
   "source": [
    "textbox_string = observed_textbox.value\n",
    "textbox_string = textbox_string.strip()\n",
    "textbox_ids = textbox_string.split('\\n')\n",
    "id_upper_bound = len(backlog_table)\n",
    "textbox_ids = [s for s in textbox_ids if s.isdigit()]\n",
    "textbox_ids = map(int, textbox_ids)\n",
    "textbox_ids = [s for s in textbox_ids if s < id_upper_bound]\n",
    "\n",
    "for idx in textbox_ids:\n",
    "    observed_table.add_row(backlog_table[idx])\n",
    "\n",
    "backlog_table.remove_rows(textbox_ids)"
   ]
  },
  {
   "cell_type": "code",
   "execution_count": null,
   "metadata": {},
   "outputs": [],
   "source": [
    "observed_table.show_in_notebook(display_length=25)"
   ]
  },
  {
   "cell_type": "markdown",
   "metadata": {},
   "source": [
    "# Undo/Redo\n",
    "\n",
    "Use these boilerplate cells to manually undo/redo addition and removal of rows between tables"
   ]
  },
  {
   "cell_type": "code",
   "execution_count": null,
   "metadata": {},
   "outputs": [],
   "source": [
    "# Example boilerplate to manually add back a row to backlog_table\n",
    "backlog_table.add_row([\"HR 0047\", \"00:13:19.4\", \"-84:59:39\", 2000.0, 4.0, 8.0, 5.77])\n",
    "backlog_table.add_row([\"HR 0047\", \"00:13:19.4\", \"-84:59:39\", 2000.0, 4.0, 8.0, 5.77])\n",
    "backlog_table.add_row([\"HR 0047\", \"00:13:19.4\", \"-84:59:39\", 2000.0, 4.0, 8.0, 5.77])"
   ]
  },
  {
   "cell_type": "code",
   "execution_count": null,
   "metadata": {},
   "outputs": [],
   "source": [
    "# Example boilerplate to manually add back a row to observed_table\n",
    "observed_table.add_row([\"HR 0047\", \"00:13:19.4\", \"-84:59:39\", 2000.0, 4.0, 8.0, 5.77])\n",
    "observed_table.add_row([\"HR 0047\", \"00:13:19.4\", \"-84:59:39\", 2000.0, 4.0, 8.0, 5.77])\n",
    "observed_table.add_row([\"HR 0047\", \"00:13:19.4\", \"-84:59:39\", 2000.0, 4.0, 8.0, 5.77])"
   ]
  },
  {
   "cell_type": "code",
   "execution_count": null,
   "metadata": {},
   "outputs": [],
   "source": [
    "backlog_table.remove_rows([1, 3, 100, 111])"
   ]
  },
  {
   "cell_type": "code",
   "execution_count": null,
   "metadata": {},
   "outputs": [],
   "source": [
    "observed_table.remove_rows([1, 3, 100, 111])"
   ]
  },
  {
   "cell_type": "markdown",
   "metadata": {},
   "source": [
    "# Save table state(s) for the night\n",
    "\n",
    "In order to save the state(s) of the table, we will be serializing both the backlog and observed table. When loading data for the next night, only these saved files will be needed, not the initial target files. Will overr\n",
    "\n"
   ]
  },
  {
   "cell_type": "code",
   "execution_count": null,
   "metadata": {
    "scrolled": false
   },
   "outputs": [],
   "source": [
    "import datetime\n",
    "\n",
    "backlog_table.write('backlog_table_' + str(datetime.datetime.utcnow()) + '.ecsv', overwrite=False, serialize_method='data_mask')\n",
    "observed_table.write('observed_table' + str(datetime.datetime.utcnow()) + '.ecsv', overwrite=False, serialize_method='data_mask')"
   ]
  }
 ],
 "metadata": {
  "kernelspec": {
   "display_name": "Python 3",
   "language": "python",
   "name": "python3"
  },
  "language_info": {
   "codemirror_mode": {
    "name": "ipython",
    "version": 3
   },
   "file_extension": ".py",
   "mimetype": "text/x-python",
   "name": "python",
   "nbconvert_exporter": "python",
   "pygments_lexer": "ipython3",
   "version": "3.7.4"
  }
 },
 "nbformat": 4,
 "nbformat_minor": 2
}
