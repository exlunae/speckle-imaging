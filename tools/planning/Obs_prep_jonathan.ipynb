{
  "nbformat": 4,
  "nbformat_minor": 0,
  "metadata": {
    "colab": {
      "name": "Obs_prep.ipynb",
      "provenance": [],
      "collapsed_sections": []
    },
    "kernelspec": {
      "name": "python2",
      "display_name": "Python 2"
    }
  },
  "cells": [
    {
      "cell_type": "markdown",
      "metadata": {
        "id": "ega-x5hzOTEf",
        "colab_type": "text"
      },
      "source": [
        "##Procedure to get point sources and assemble observing lists for Speckle Imaging using scripts and instructions from Mark Everett. Currently all scripts run in Python 2. May require Chrome browser.\n",
        "\n",
        "###Example files to run scripts below can be found in `/content/gdrive/My Drive/Obs_Prep_Notebook/Example_files`"
      ]
    },
    {
      "cell_type": "markdown",
      "metadata": {
        "id": "uc6UD_e68qiO",
        "colab_type": "text"
      },
      "source": [
        "##1) Mount Google Drive and set up Python."
      ]
    },
    {
      "cell_type": "code",
      "metadata": {
        "id": "f9BlylJARFLs",
        "colab_type": "code",
        "outputId": "7df8ddd9-4078-47f3-c4e1-2e87e853f519",
        "colab": {
          "base_uri": "https://localhost:8080/",
          "height": 34
        }
      },
      "source": [
        "# Mount google drive:\n",
        "\n",
        "from google.colab import drive\n",
        "drive.mount('/content/gdrive') #, force_remount=True)"
      ],
      "execution_count": 0,
      "outputs": [
        {
          "output_type": "stream",
          "text": [
            "Drive already mounted at /content/gdrive; to attempt to forcibly remount, call drive.mount(\"/content/gdrive\", force_remount=True).\n"
          ],
          "name": "stdout"
        }
      ]
    },
    {
      "cell_type": "code",
      "metadata": {
        "id": "g5VeW6AnOkP4",
        "colab_type": "code",
        "colab": {}
      },
      "source": [
        "# Set up Python:\n",
        "\n",
        "import os\n",
        "import re\n",
        "import sys\n",
        "sys.path.append('/content/gdrive/My Drive/Obs_Prep_Notebook')\n",
        "\n",
        "import myutils\n",
        "from targetlist_utils import makeOlistFile1, filechecker"
      ],
      "execution_count": 0,
      "outputs": []
    },
    {
      "cell_type": "markdown",
      "metadata": {
        "id": "IQ0d9L84TRXm",
        "colab_type": "text"
      },
      "source": [
        "##2) Upload text file with object names, coordinates, magnitude, and optional proper motions (*.coords*).\n",
        "\n",
        "The coordinates should be hexagesimal, RA should be in hours of RA and proper motions in milliarcsec/year. A positive sign for declination is optional. The coordinates can have whitespace or colon separators, but only one style or the other should be used on a given line.  Normally the input file coordinates should be J2000. Separators between columns is whitespace. Proper motions are optional. To associate a PI and optionally a subgroup/Co-I for each object in the coords file use 'header' lines with the format \"#PI:\" or \"#PI_COI:\". Blank lines are ignored and text following a \"#\" can be ignored except when it is in exactly the format above.\n",
        "\n",
        "Example coordinate file format (also see Howell.coords in Speckle Group Google Drive)\n",
        "\n",
        "```\n",
        "#HOWELL:\n",
        "NAME     HH:MM:DD.DDD +DD:MM:SS.SSS MAG PMRA PMDec\n",
        "NAME     HH MM DD.DDD +DD MM SS.SSS MAG\n",
        "#HOWELL_CALIB:\n",
        "LHS1140  00:44:59.3 -15:16:17   14.1    317    -589\n",
        "HD3167   00:34:57.5 +04:22:53    8.9    107.58 -173.14 #priority 1\n",
        "\n",
        "```\n",
        "\n"
      ]
    },
    {
      "cell_type": "code",
      "metadata": {
        "id": "ciRd7k3DTPrT",
        "colab_type": "code",
        "outputId": "a4edccb4-e85b-46ab-9416-decbb1e5c147",
        "colab": {
          "resources": {
            "http://localhost:8080/nbextensions/google.colab/files.js": {
              "data": "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",
              "ok": true,
              "headers": [
                [
                  "content-type",
                  "application/javascript"
                ]
              ],
              "status": 200,
              "status_text": ""
            }
          },
          "base_uri": "https://localhost:8080/",
          "height": 71
        }
      },
      "source": [
        "# Upload coords file from local computer:\n",
        "\n",
        "from google.colab import files\n",
        "uploaded = files.upload()"
      ],
      "execution_count": 0,
      "outputs": [
        {
          "output_type": "display_data",
          "data": {
            "text/plain": [
              "<IPython.core.display.HTML object>"
            ],
            "text/html": [
              "\n",
              "     <input type=\"file\" id=\"files-5f868f45-ef4f-4b50-b587-971079fa4b25\" name=\"files[]\" multiple disabled />\n",
              "     <output id=\"result-5f868f45-ef4f-4b50-b587-971079fa4b25\">\n",
              "      Upload widget is only available when the cell has been executed in the\n",
              "      current browser session. Please rerun this cell to enable.\n",
              "      </output>\n",
              "      <script src=\"/nbextensions/google.colab/files.js\"></script> "
            ]
          },
          "metadata": {
            "tags": []
          }
        },
        {
          "output_type": "stream",
          "text": [
            "Saving Howell.coords to Howell.coords\n"
          ],
          "name": "stdout"
        }
      ]
    },
    {
      "cell_type": "markdown",
      "metadata": {
        "id": "Z04qLZSp-uFh",
        "colab_type": "text"
      },
      "source": [
        "##3) Create target list with PSF calibrators in 'our' format (*.wlist*) or for submission to Gemini (*.gemini*)\n",
        "\n",
        "*  This script (copied from `make_wlist.py`) will ask you for which **telescope** you will be observing at (WIYN, GN, GS) and which **format** you want the output file to be in (our list vs. Gemini format). Our format is useful for creating observing plans for use at the telescope, while the Gemini format is a CSV-formatted file that Gemini can injest into its Phase 2 program as a bulk upload.\n",
        "\n",
        "*  You will then be asked for the **input data file** (*coords* file), if you want to **add point sources** for each target (typically yes), and whether you want to **include trailing comments** (notes listed after # in coords file). Trailing comments can be useful for notes at the telescope if the output file (*wlist*) is used to create an olist, or observing plan.\n",
        "\n",
        "*  The next thing it will ask you is how you want **H-numbers** to be assigned to targets. We usually select 's' and input a 6-digit starting number (typically 600000). It will also ask you to do this when creating a Gemini formatted file, but the H number won't be used. Finally it asks for the name of a *wlist* file to create, which is the **output file**.\n",
        "\n",
        "*  Note that the order of the input list corresponds to the output order, meaning that even if you change the output format (*wlist* vs. *gemini*), the output file should correspond line-for-line to a run of the same script using the other output format."
      ]
    },
    {
      "cell_type": "code",
      "metadata": {
        "id": "hJKLfbVASx5p",
        "colab_type": "code",
        "outputId": "9f830190-0979-4305-d391-7cb45f65e5c4",
        "colab": {
          "base_uri": "https://localhost:8080/",
          "height": 408
        }
      },
      "source": [
        "# Run make_wlist.py:\n",
        "\n",
        "maxnumps = 1 #the maximum number of point sources chosen per science target\n",
        "searchrad = 5 #degrees radius around science target to search for point sources\n",
        "telescopes = ('WIYN','GN','GS') #default will be first telescope listed\n",
        "telescope=myutils.ask_user(\n",
        "    'Pick telescope ({} or {})? [{}]'.format(\n",
        "        \", \".join(telescopes[0:-1]),\n",
        "        telescopes[-1],\n",
        "        telescopes[0]),\n",
        "    default=telescopes[0],allowed=telescopes\n",
        ")\n",
        "if telescope=='GN':\n",
        "    telescopeDEC=19.8238\n",
        "elif telescope=='GS':\n",
        "    telescopeDEC=-30.2406\n",
        "elif telescope=='WIYN':\n",
        "    telescopeDEC=31.958\n",
        "formt = myutils.ask_user(\"Pick 'w' for wlist or 'g' for Gemini format [w]:\", default='w', allowed=('w','g'))\n",
        "if formt == 'w':\n",
        "    ourformat = True\n",
        "else:\n",
        "    ourformat = False\n",
        "\n",
        "#print '-----------------------------------------------------------------'\n",
        "#print \"Input files have lines denoting target ownership, starting with '#'\"\n",
        "#print \"and ending with ':'.  Other comment lines start with '#' and\"\n",
        "#print \"text following '#' in any other line is treated as a comment.\"\n",
        "#print \"Target data lines have 4, 6, 8 or 10 whitespace-separated columns.\"\n",
        "#print \"The data entries are, in order, NAME, RA, DEC, mag, pmRA, pmDEC.\"\n",
        "#print \"The proper motion data are optional.\"\n",
        "#print \"RA and DEC are hexagesimal and can be either whitespace or :-delimited.\"\n",
        "#print \"Proper motions are in arcseconds/year.\"\n",
        "#print \"The Equinox and epoch should both be 2000.0\"\n",
        "#print 'E.g.,:'\n",
        "#print '#HOWELL:'\n",
        "#print 'HD217107     22:58:15.54 -02:23:43.25  6.160 -6.000 -16.000'\n",
        "#print 'EP212575828    13 40 38.328    -11 07 01.53    15.508 #high priority'\n",
        "print '-----------------------------------------------------------------'\n",
        "print 'make_wlist is running with these settings:'\n",
        "print 'Max number of point sources/science target =',maxnumps\n",
        "print 'Format =',\n",
        "if ourformat:\n",
        "    print 'wlist format'\n",
        "else:\n",
        "    print 'Gemini target submission format'\n",
        "print 'Telescope =',telescope,'at Latitude =',telescopeDEC\n",
        "print '-----------------------------------------------------------------'\n",
        "\n",
        "    \n",
        "inputfile = ''\n",
        "while not os.path.exists(inputfile):\n",
        "    if len(sys.argv)>1:\n",
        "        query = 'Name of input data file [{}]:'.format(sys.argv[1])\n",
        "        inputfile = myutils.ask_user(query, default=sys.argv[1])    \n",
        "    else:\n",
        "        query = 'Name of input data file :'\n",
        "        inputfile = myutils.ask_user(query)    \n",
        "    if not os.path.exists(inputfile):\n",
        "        print '%s does not exist' % inputfile\n",
        "\n",
        "if filechecker(inputfile)!=0:\n",
        "    exit()\n",
        "\n",
        "if telescope in ('WIYN',):            \n",
        "    pmyears = float(myutils.ask_user('Years of proper motion to add to input coords: [0.]',default='0.'))\n",
        "else:\n",
        "    pmyears = 0.0\n",
        "\n",
        "psources = myutils.ask_user('Do you want a point source added for each target (y/n)? [y]',\n",
        "                            default='y',allowed=('y','n'))\n",
        "if psources == 'y':\n",
        "    includePointSources = True\n",
        "else:\n",
        "    includePointSources = False\n",
        "\n",
        "comments =  myutils.ask_user('Include trailing comments in the output file (y/n)? [n]',\n",
        "                            default='n',allowed=('y','n'))\n",
        "if comments == 'y':\n",
        "    includeComments = True\n",
        "else:\n",
        "    includeComments = False\n",
        "\n",
        "startnumber=0\n",
        "numbering=None\n",
        "if ourformat==True:\n",
        "    naming = myutils.ask_user(\n",
        "        'How should H-numbers be assigned to targets?\\n'+\n",
        "        ' (s) by a starting number\\n'+\n",
        "        ' (f) from a file\\n'+\n",
        "        '?: ',default='s',allowed=['s','f'])\n",
        "    if naming == 's':\n",
        "        startnumber = int(myutils.ask_user('Input 6-digit starting number: '))\n",
        "        numbering = None\n",
        "    elif naming == 'f':\n",
        "        startnumber = 0\n",
        "        numbering = {}\n",
        "        print 'Will use a column in %s to define h-numbering.' % inputfile\n",
        "        filedata = []\n",
        "        fh = open(inputfile,'r')\n",
        "        for line in fh:\n",
        "            line = line.strip()\n",
        "            if not re.match('^#',line) and re.match('\\w',line):\n",
        "                cols = line.split()\n",
        "                filedata.append([line,cols])\n",
        "        fh.close()\n",
        "        print 'First line reads...'\n",
        "        print filedata[0][0]+'\\n'\n",
        "        hcolumn = int(myutils.ask_user('Input column number in file defining hnumber: '))\n",
        "        choice = myutils.ask_user('How should hnumbers be defined using column %d?\\n' % hcolumn+\n",
        "                                  '1) first 6 digits in entry\\n'+\n",
        "                                  '2) first 6 digits in entry + offset\\n'+\n",
        "                                  '3) last 6 digits in entry\\n'+\n",
        "                                  '4) last 6 digits in entry + offset\\n'+\n",
        "                                  '?: ',allowed=('1','2','3','4'))\n",
        "        if choice in ('2','4'):\n",
        "            offset = int(myutils.ask_user('Input integer for numbering offset: '))\n",
        "        elif choice in ('1','3'):\n",
        "            offset = 0\n",
        "        if choice in ('1','2'):\n",
        "            for i in range(len(filedata)):\n",
        "                tmp = filedata[i][1][hcolumn-1]\n",
        "                name = ''\n",
        "                for letter in tmp:\n",
        "                    if letter.isdigit():\n",
        "                        name += letter\n",
        "                numbering[filedata[i][1][0]] = int(name) + offset\n",
        "        elif choice in ('3','4'):\n",
        "            for i in range(len(filedata)):\n",
        "                tmp = filedata[i][1][hcolumn-1]\n",
        "                name = ''\n",
        "                for letter in tmp[::-1]:\n",
        "                    if letter.isdigit():\n",
        "                        name = letter + name\n",
        "                numbering[filedata[i][1][0]] = int(name) + offset\n",
        "\n",
        "outputfile = None\n",
        "while not outputfile or os.path.exists(outputfile):\n",
        "    outputfile = myutils.ask_user('Name of file to create: ')\n",
        "    if os.path.exists(outputfile):\n",
        "        overwrite = myutils.ask_user('%s already exists.  Overwrite it? (y/n) [n]: ' % outputfile,\n",
        "                                     default='n',allowed=('y','n'))\n",
        "        if overwrite == 'y':\n",
        "            break\n",
        "\n",
        "if pmyears != 0:\n",
        "    dopm = True\n",
        "else:\n",
        "    dopm = False\n",
        "\n",
        "rawdata = makeOlistFile1(inputfile,pmyears,dopm,startnumber,telescopeDEC=telescopeDEC,\n",
        "                         hnumbersFromName=numbering,maxnumps=maxnumps,searchrad=searchrad)\n",
        "\n",
        "if ourformat:\n",
        "    outputfh = open(outputfile,'w')\n",
        "    for i in range(len(rawdata)):\n",
        "        outputfh.write(rawdata[i]['targ_line'])\n",
        "        if includeComments and rawdata[i]['targ_comment']:\n",
        "            outputfh.write(' #'+rawdata[i]['targ_comment'])\n",
        "        outputfh.write('\\n')\n",
        "        if includePointSources:\n",
        "            for j in range(len(rawdata[i]['ps_line'])):\n",
        "                outputfh.write(rawdata[i]['ps_line'][j]+'\\n')\n",
        "    outputfh.close()\n",
        "else:\n",
        "    outputfh = open(outputfile,'w')\n",
        "    for i in range(len(rawdata)):\n",
        "        outputfh.write(rawdata[i]['targ_line2'])\n",
        "        if includeComments and rawdata[i]['targ_comment']:\n",
        "            outputfh.write(' #'+rawdata[i]['targ_comment'])\n",
        "        outputfh.write('\\n')\n",
        "        if includePointSources:\n",
        "            for j in range(len(rawdata[i]['ps_line2'])):\n",
        "                outputfh.write(rawdata[i]['ps_line2'][j]+'\\n')\n",
        "    outputfh.close()\n",
        "\n",
        "print 'Done'"
      ],
      "execution_count": 0,
      "outputs": [
        {
          "output_type": "stream",
          "text": [
            "Pick telescope (WIYN, GN or GS)? [WIYN]GS\n",
            "Pick 'w' for wlist or 'g' for Gemini format [w]:w\n",
            "-----------------------------------------------------------------\n",
            "make_wlist is running with these settings:\n",
            "Max number of point sources/science target = 1\n",
            "Format = wlist format\n",
            "Telescope = GS at Latitude = -30.2406\n",
            "-----------------------------------------------------------------\n",
            "Name of input data file [-f]:Howell.coords\n",
            "Do you want a point source added for each target (y/n)? [y]y\n",
            "Include trailing comments in the output file (y/n)? [n]y\n",
            "How should H-numbers be assigned to targets?\n",
            " (s) by a starting number\n",
            " (f) from a file\n",
            "?: s\n",
            "Input 6-digit starting number: 100000\n",
            "Name of file to create: Howell.wlist\n"
          ],
          "name": "stdout"
        },
        {
          "output_type": "stream",
          "text": [
            "WARNING: No point sources within {} deg of {}.  Increase searchrad!\n",
            "WARNING: No point sources within {} deg of {}.  Increase searchrad!\n",
            "WARNING: No point sources within {} deg of {}.  Increase searchrad!\n",
            "WARNING: No point sources within {} deg of {}.  Increase searchrad!\n",
            "WARNING: No point sources within {} deg of {}.  Increase searchrad!\n"
          ],
          "name": "stderr"
        },
        {
          "output_type": "stream",
          "text": [
            "Done\n"
          ],
          "name": "stdout"
        }
      ]
    },
    {
      "cell_type": "code",
      "metadata": {
        "id": "cG79duzTTFn8",
        "colab_type": "code",
        "colab": {}
      },
      "source": [
        "# To preview output file:\n",
        "\n",
        "look = open(outputfile,'r')\n",
        "print look.read()\n",
        "look.close()"
      ],
      "execution_count": 0,
      "outputs": []
    },
    {
      "cell_type": "code",
      "metadata": {
        "id": "mlw-DvQBHQHy",
        "colab_type": "code",
        "colab": {}
      },
      "source": [
        "# Download wlist/gemini file to local computer:\n",
        "\n",
        "files.download(outputfile)\n",
        "\n",
        "# Files can also be accessed using '>' menu at top left of screen under 'Files' menu. Right click on desired file to delete or download."
      ],
      "execution_count": 0,
      "outputs": []
    },
    {
      "cell_type": "markdown",
      "metadata": {
        "id": "aMdc-ph8NtPA",
        "colab_type": "text"
      },
      "source": [
        "##4) If observing at Gemini, append the Queue IDs to our target list using the CSV file returned by Gemini.\n",
        "\n",
        "This script (copied from `attachQID.py`) will create a new wlist (*.wglist*) with the abbreviated Gemini Queue ID numbers appended to the end of each target line. You must upload the wlist and corresponding csv-formatted file returned from Gemini which associates the Queue IDs with the object names in the wlist. \n",
        "\n"
      ]
    },
    {
      "cell_type": "code",
      "metadata": {
        "id": "rf_fEepLOSue",
        "colab_type": "code",
        "outputId": "69887405-d791-4b7a-88b9-b309c94e0bd0",
        "colab": {
          "resources": {
            "http://localhost:8080/nbextensions/google.colab/files.js": {
              "data": "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",
              "ok": true,
              "headers": [
                [
                  "content-type",
                  "application/javascript"
                ]
              ],
              "status": 200,
              "status_text": ""
            }
          },
          "base_uri": "https://localhost:8080/",
          "height": 71
        }
      },
      "source": [
        "# Upload csv file from Gemini:\n",
        "\n",
        "from google.colab import files\n",
        "queueIDfile = files.upload()\n"
      ],
      "execution_count": 0,
      "outputs": [
        {
          "output_type": "display_data",
          "data": {
            "text/plain": [
              "<IPython.core.display.HTML object>"
            ],
            "text/html": [
              "\n",
              "     <input type=\"file\" id=\"files-791f47ca-2f0b-4380-9157-76410c93b737\" name=\"files[]\" multiple disabled />\n",
              "     <output id=\"result-791f47ca-2f0b-4380-9157-76410c93b737\">\n",
              "      Upload widget is only available when the cell has been executed in the\n",
              "      current browser session. Please rerun this cell to enable.\n",
              "      </output>\n",
              "      <script src=\"/nbextensions/google.colab/files.js\"></script> "
            ]
          },
          "metadata": {
            "tags": []
          }
        },
        {
          "output_type": "stream",
          "text": [
            "Saving GS-2019A-Q-222.csv to GS-2019A-Q-222.csv\n"
          ],
          "name": "stdout"
        }
      ]
    },
    {
      "cell_type": "code",
      "metadata": {
        "colab_type": "code",
        "outputId": "27859bf3-58ff-4a11-9a02-4e50534ec543",
        "id": "zbAfHD0aO3QD",
        "colab": {
          "resources": {
            "http://localhost:8080/nbextensions/google.colab/files.js": {
              "data": "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",
              "ok": true,
              "headers": [
                [
                  "content-type",
                  "application/javascript"
                ]
              ],
              "status": 200,
              "status_text": ""
            }
          },
          "base_uri": "https://localhost:8080/",
          "height": 71
        }
      },
      "source": [
        "# Upload wlist file to be appended:\n",
        "\n",
        "wlistfile = files.upload()\n",
        "\n",
        "# **Currently you must upload a wlist rather than use one produced by make_wlist.py above**"
      ],
      "execution_count": 0,
      "outputs": [
        {
          "output_type": "display_data",
          "data": {
            "text/plain": [
              "<IPython.core.display.HTML object>"
            ],
            "text/html": [
              "\n",
              "     <input type=\"file\" id=\"files-ed02febf-5f29-4f8b-b372-48ff82ffce97\" name=\"files[]\" multiple disabled />\n",
              "     <output id=\"result-ed02febf-5f29-4f8b-b372-48ff82ffce97\">\n",
              "      Upload widget is only available when the cell has been executed in the\n",
              "      current browser session. Please rerun this cell to enable.\n",
              "      </output>\n",
              "      <script src=\"/nbextensions/google.colab/files.js\"></script> "
            ]
          },
          "metadata": {
            "tags": []
          }
        },
        {
          "output_type": "stream",
          "text": [
            "Saving Howell.wlist to Howell (1).wlist\n"
          ],
          "name": "stdout"
        }
      ]
    },
    {
      "cell_type": "code",
      "metadata": {
        "id": "Cx90q3w7R6qT",
        "colab_type": "code",
        "outputId": "f3d7a2b7-f703-4d10-853f-4fddc71201eb",
        "colab": {
          "base_uri": "https://localhost:8080/",
          "height": 34
        }
      },
      "source": [
        "# Run attachQID.py:\n",
        "\n",
        "import re\n",
        "import argparse\n",
        "from warnings import warn\n",
        "\n",
        "\"\"\"\n",
        "Append abbreviated Gemini Queue ID numbers to the end of each target\n",
        "line in a wlist using a csv-formatted file returned from Gemini which\n",
        "associates the Queue IDs with the object names in the wlist.\n",
        "\"\"\"\n",
        "\n",
        "def getTargetAssociations(fh):\n",
        "    queuenumbers = {}\n",
        "    for line in fh:\n",
        "        if re.search('\\w',line) and not line.startswith(\"#\"):\n",
        "            cols = [x.strip() for x in line.split(',')]\n",
        "            if cols[1].startswith(\"HR\"):\n",
        "                name = cols[1].replace(' ','')\n",
        "            else:\n",
        "                name = cols[1].replace(' ','_')\n",
        "            q = cols[0]\n",
        "            queuenumbers[name] = q\n",
        "    return queuenumbers\n",
        "\n",
        "def readWlist(fh):\n",
        "    lines = []\n",
        "    objnames = []\n",
        "    longestline = 0\n",
        "    for line in fh:\n",
        "        line = line.rstrip()\n",
        "        objname = None\n",
        "        if not line.startswith('#'):\n",
        "            if '#' not in line:\n",
        "                length = len(line)\n",
        "            else:\n",
        "                length = line.find('#') + 1\n",
        "            if length>longestline:\n",
        "                longestline = length\n",
        "            cols = line.split()\n",
        "            if len(cols)>=6 and re.match(\"H\\d{6}\",line):\n",
        "                objname = (cols[5].split('/'))[1]\n",
        "            elif line.startswith('HR'):\n",
        "                objname = cols[0]+cols[1]\n",
        "        lines.append(line)\n",
        "        objnames.append(objname)\n",
        "    return (lines,objnames,longestline)\n",
        "        \n",
        "#-------main program---------\n",
        "\n",
        "q = queueIDfile.values()[0]\n",
        "q = q.splitlines()\n",
        "\n",
        "w = wlistfile.values()[0]\n",
        "w = w.splitlines()\n",
        "\n",
        "queue = getTargetAssociations(q)\n",
        "wlist = readWlist(w)\n",
        "\n",
        "qoutput = str(wlistfile.keys()[0])\n",
        "qoutputfile = qoutput.rstrip('wlist')+'wglist'\n",
        "qoutputfh = open(qoutputfile,'w')\n",
        "          \n",
        "     \n",
        "missingids = []\n",
        "for i in range(len(wlist[0])):\n",
        "    line = wlist[0][i]\n",
        "    objname = wlist[1][i]\n",
        "    if objname in queue:\n",
        "        mtch = re.match('(G(N|S)\\-\\d{4}(A|B)\\-\\w+\\-)(.+)',queue[objname])\n",
        "        if mtch:\n",
        "            queue[objname] = mtch.group(4)\n",
        "        comment = ' #'+queue[objname]\n",
        "    elif not line.startswith('#'):\n",
        "        comment = \" # NO QID for this\"\n",
        "        missingids.append(objname)\n",
        "    else:\n",
        "        comment = ''\n",
        "\n",
        "    if '#' in line and not line.startswith('#'):\n",
        "        idx = line.find('#') \n",
        "        line1 = line[:idx]\n",
        "        comment += ' '+line[idx+1:]\n",
        "    else:\n",
        "        line1 = line\n",
        "        comment += ''\n",
        "        \n",
        "    fmt = '{:%ds} {:s}\\n' % wlist[2]\n",
        "    #    print fmt.format(line1,comment)\n",
        "    #args.outputfile.write(fmt.format(line1,comment))\n",
        "    qoutputfh.write(fmt.format(line1,comment))\n",
        "\n",
        "qoutputfh.close()\n",
        "if missingids:\n",
        "    warn(\"Missing IDs for {} objects in {}\".format(len(missingids), wlist.name))\n",
        "\n",
        "print 'Done'"
      ],
      "execution_count": 0,
      "outputs": [
        {
          "output_type": "stream",
          "text": [
            "Done\n"
          ],
          "name": "stdout"
        }
      ]
    },
    {
      "cell_type": "code",
      "metadata": {
        "id": "SIla1BzrcJfT",
        "colab_type": "code",
        "colab": {}
      },
      "source": [
        "# To look at output file:\n",
        "\n",
        "look = open(qoutputfile,'r')\n",
        "print look.read()\n",
        "look.close()"
      ],
      "execution_count": 0,
      "outputs": []
    },
    {
      "cell_type": "code",
      "metadata": {
        "id": "3JYaeGLvXMcd",
        "colab_type": "code",
        "colab": {}
      },
      "source": [
        "# To save wglist in Google Drive:\n",
        "\n",
        "with open(qoutputfile,'r') as temp:\n",
        "  test = temp.read()\n",
        "\n",
        "with open('/content/gdrive/My Drive/GS2019A/wlists/'+qoutputfile, 'w') as f:\n",
        "   f.write(test)"
      ],
      "execution_count": 0,
      "outputs": []
    },
    {
      "cell_type": "markdown",
      "metadata": {
        "id": "_0vtsm_vo1El",
        "colab_type": "text"
      },
      "source": [
        "## 5) Create nightly oberving plans by assembling individual targets from all programs being observed.\n",
        "\n",
        "\n",
        "\n",
        "*   Start with a new text file, typically saved as a raw *olist* file named for the local date (e.g. *may20raw.olist*), and list relevant date/telescope/program information at top as desired.\n",
        "\n",
        "*  Copy and paste individual science targets, and their associated PSF calibrators, from each *wlist* into the raw *olist*  in order of right ascension. Each target + calibrator should be bracketed by dashed lines. If more than one science target has the same calibrator they may be combined into one 'observation set' between dashed lines.\n",
        "\n",
        "*  In general, try to select targets based on the priority (e.g. Band 1 vs. Band 3 at Gemini) and time allocated to each program, as well any priorities listed within programs. \n",
        "\n",
        "*  We also try to stick to small jumps in declination, selecting targets in clumps of declination and smoothly progressing back and forth between smaller and larger declinations (see example below).\n",
        "\n",
        "* Depending on the brightness of each target, plan roughly 4 - 8 observation blocks per hour of RA. \n",
        "\n",
        "*  Add in calibration binaries, used to determine the plate scale, periodically throughout the night (usually in Howell program, listed as 'HOWELL_CALIB'). A known binary should also be observed with different rotation angles at least once per observing run.\n",
        "\n",
        "\n",
        "Example:\n",
        "\n",
        "```\n",
        "05/20/19 EMCCD2 ZORRO\n",
        "---------------------------\n",
        "sunset = 17:49 = 8:47 LST\n",
        "sunrise = 7:29 = 22:29 LST\n",
        "-----------------------------------------------------------------\n",
        "program ID       PI           hours(start)       hours(used)\n",
        "---------------  -----------  ------------       -----------\n",
        "GS-2019A-LP-101  Crossfield      20.0h\n",
        "GS-2019A-Q-110   Mendez           8.5h\n",
        "GS-2019A-Q-222   Howell          70.0h\n",
        "GS-2019A-Q-230   Douglas         32.0h\n",
        "GS-2019A-Q-302   Winters         20.0h \n",
        "GS-2019A-Q-311   Mendez           2.9h\n",
        "-----------------------------------------------------------------\n",
        "starting file no: S20190520Z0001\n",
        "focus: -0.05\n",
        "ROI: 256x256 (~2.5\")\n",
        "--------------------------------------------------------------------------------------------------------------\n",
        "template:\n",
        "H10000X 0001 03:00 1000 1000 10:10:10.0 +10:10:10 2000.00  10.00 PI/OBJECT #comment\n",
        "--------------------------------------------------------------------------------------------------------------\n",
        "--------------------------------------------------------------------------------------------------------------\n",
        "H610001        08:58:52.4 -43:27:10 2000.00   8.29  CROSSFIELD/30828562               #101-46\n",
        "HR 3600        09:01:20.8 -41:51:52 2000.00                                           #101-68\n",
        "--------------------------------------------------------------------------------------------------------------\n",
        "H620108        09:10:04.4 -43:55:30 2000.00   9.07  HOWELL_TOIs/74482749              #222-33\n",
        "HR 3672        09:14:08.2 -44:08:45 2000.00                                           #222-298\n",
        "--------------------------------------------------------------------------------------------------------------\n",
        "H620128        09:54:52.9 -23:19:56 2000.00  10.18  HOWELL_TOIs/101395259             #222-958\n",
        "HR 3965        10:04:21.0 -24:17:08 2000.00                                           #222-229\n",
        "--------------------------------------------------------------------------------------------------------------\n",
        "HR 4189        10:43:01.8 +26:19:32 2000.00                                           #222-727\n",
        "H620049        11:14:33.2 +25:42:37 2000.00   7.70  HOWELL_RODRIGUEZ/HD97658          #222-358\n",
        "--------------------------------------------------------------------------------------------------------------\n",
        "HR 4356        11:13:45.6 -00:04:11 2000.00                                           #222-469\n",
        "H620036        11:16:28.1 -03:58:32 2000.00  15.60  HOWELL/EPIC201205469              #222-67 K2-43\n",
        "--------------------------------------------------------------------------------------------------------------\n",
        "H620015        11:20:51.8 -23:13:02 2000.00   8.00  HOWELL_KANE/HD98649               #222-919\n",
        "HR 4428        11:29:38.6 -24:27:48 2000.00                                           #222-765\n",
        "--------------------------------------------------------------------------------------------------------------\n",
        "H660006        11:46:21.1 -27:57:49 2000.00   7.55  MENDEZ_110/HIP57421   #110-70\n",
        "H660007        11:48:45.1 -26:44:59 2000.00   5.11  MENDEZ_110/HR4532     #110-67\n",
        "```\n"
      ]
    },
    {
      "cell_type": "markdown",
      "metadata": {
        "id": "4UqodZ5upH4s",
        "colab_type": "text"
      },
      "source": [
        "##6) At the conclusion of each night of observing, a final *olist* must be produced based on the nightly observing plan and the log from the '*endnight*' script at the telescope.\n",
        "\n",
        "\n",
        "\n",
        "*   Copy and paste the **file number**, **time of observation**, and **blue and red gains** listed in the '*endnight*' log (see specklegroup@gmail.com) from the first observation of each target into the observing schedule between the **H-number/HR number** and **right ascension** of the corresponding target. If you are just updating the target list, only one line per target is needed (one line per file is needed for data reduction).\n",
        "\n",
        "* Duplicate the edited *olist* file, then delete all unobserved targets, ensuring that each remaining line begins with the H-number/HR number and has 10 columns.\n",
        "\n",
        "\n",
        "\n",
        "Example:\n",
        "\n",
        "\n",
        "\n",
        "```\n",
        "--------------------------------------------------------------------------------------------------------------\n",
        "H620015        11:20:51.8 -23:13:02 2000.00   8.00  HOWELL_KANE/HD98649               #222-919\n",
        "HR 4428        11:29:38.6 -24:27:48 2000.00                                           #222-765\n",
        "--------------------------------------------------------------------------------------------------------------\n",
        "H660006 0400 01:25   10   10 11:46:21.1 -27:57:49 2000.00   7.55  MENDEZ_110/HIP57421   #110-70 seeing ~1\"\n",
        "H660007 0403 01:35   20    2 11:48:45.1 -26:44:59 2000.00   5.11  MENDEZ_110/HR4532     #110-67\n",
        "--------------------------------------------------------------------------------------------------------------\n",
        "H650002 0404 01:46  100  100 12:01:46.1 -34:39:01 2000.00   6.96  MENDEZ_311/HIP58669   #311-9 \n",
        "H650003 0409 01:52  100  100 12:23:35.4 -35:24:46 2000.00   5.31  MENDEZ_311/HR4712     #311-11\n",
        "--------------------------------------------------------------------------------------------------------------\n",
        "H660008 0410 01:59   40   50 12:15:10.6 -10:18:45 2000.00   6.11  MENDEZ_110/HIP59750   #110-90 seeing ~1.2\"\n",
        "H660009 0413 02:02   40   50 12:20:55.7 -13:33:57 2000.00   5.14  MENDEZ_110/HR4699     #110-81\n",
        "\n",
        "\n",
        "```\n",
        "\n",
        "\n",
        "\n",
        "\n",
        "\n"
      ]
    },
    {
      "cell_type": "markdown",
      "metadata": {
        "id": "Xl5750F1pg2B",
        "colab_type": "text"
      },
      "source": [
        "##7) After each night of observing the target lists (*wglists*) for each program must also be updated.\n",
        "\n",
        "* On the **first night** of observing, add a line to the end of each *wglist* that says 'observed' as shown below. If there are targets that need to be observed more than once, such as plate scale binaries, bracket off those observations with '**#begin_permanent**' and '**#end_permanent**' so they are not marked as observed and removed from the list.\n",
        "\n",
        "```\n",
        "        Observed:----------------------------------------------------\n",
        "```"
      ]
    },
    {
      "cell_type": "markdown",
      "metadata": {
        "id": "KHRHwWYLLZwK",
        "colab_type": "text"
      },
      "source": [
        "* On the **first night**, also create a text file named `wlists4update.dat` containing the names and locations of all *wglists* to be updated (**in next cell**)."
      ]
    },
    {
      "cell_type": "code",
      "metadata": {
        "id": "5mIXE5h-92EY",
        "colab_type": "code",
        "colab": {}
      },
      "source": [
        "# Make wlists4update.dat file & write to Google Drive (if it doesn't already exist):\n",
        "\n",
        "wglistfiles = ['Crossfield.wglist','Douglas.wglist','Howell_orig.wglist',\n",
        "               'Mendez110.wglist','Mendez311.wglist','Winters.wglist']\n",
        "\n",
        "wglistpath = '/content/gdrive/My Drive/GS2019A/wlists/'\n",
        "\n",
        "\n",
        "with open('/content/gdrive/My Drive/GS2019A/wlists/wlists4update.dat', 'w') as f:\n",
        "  for n in wglistfiles:\n",
        "      f.write(wglistpath+n+'\\n')\n"
      ],
      "execution_count": 0,
      "outputs": []
    },
    {
      "cell_type": "markdown",
      "metadata": {
        "id": "KM4AOwHNLde_",
        "colab_type": "text"
      },
      "source": [
        "*  After **each night** run the script `updatewlists.py` (**in next cell**) to update all *wglist* files based on the night's final *olist* (which should list only observed targets). You need to pass the location of the *wlists4update.dat* file and the relevant *olist* file to the script as shown below. \n",
        "\n",
        "```\n",
        "        updatewlists.py -l \"/wlists/wlists4update.dat\" \"/olists/may20.olist\"\n",
        "```\n",
        "\n",
        "*  New *wglist* files should be created with the date of observation appended to the end of the file name. Verify that the date of the corresponding *olist* has been added to the bottom of each file and targets that were observed are now listed below the date. Note that once a target has been observed, its' PSF calibrator is no longer listed. If the revised *wglists* check out, rename them as the official *wglists*."
      ]
    },
    {
      "cell_type": "code",
      "metadata": {
        "id": "gBCEyLiZE4t_",
        "colab_type": "code",
        "colab": {}
      },
      "source": [
        "# Run updatewlists.py (Needs -l \"full path to wlists4update.py\" and \"full path to olist\"):\n",
        "\n",
        "%run \"/content/gdrive/My Drive/Obs_Prep_Notebook/updatewlists.py\" -l \"/content/gdrive/My Drive/GS2019A/wlists/wlists4update.dat\" '/content/gdrive/My Drive/GS2019A/olists/may20.olist' "
      ],
      "execution_count": 0,
      "outputs": []
    },
    {
      "cell_type": "markdown",
      "metadata": {
        "id": "sNSDLUPp-dOO",
        "colab_type": "text"
      },
      "source": [
        "## 8) Create a new observing plan for the next night using the updated *wglist* files.\n",
        "\n",
        "*  Open duplicate *raw olist* from the previous night and delete the lines corresponding to objects that were observed. Rename the *olist* as tonight's raw *olist*\n",
        "*  Add objects and adjust the contents of tonight's *olist* file by cutting and pasting the lines from the *wglists*. \n",
        "* Verify there are no duplicates using: `python checkduplicates.py -o olists/oct29raw.olist`.\n",
        "* Update notes at top of *olist* if needed."
      ]
    },
    {
      "cell_type": "markdown",
      "metadata": {
        "id": "wvvoBcOPIfmi",
        "colab_type": "text"
      },
      "source": [
        "## 9) Repeat steps 6 - 8 for each night of an observing run."
      ]
    },
    {
      "cell_type": "code",
      "metadata": {
        "id": "hbQAoyUUIvFY",
        "colab_type": "code",
        "colab": {}
      },
      "source": [
        ""
      ],
      "execution_count": 0,
      "outputs": []
    }
  ]
}